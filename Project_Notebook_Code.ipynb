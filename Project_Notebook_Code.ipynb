{
 "cells": [
  {
   "cell_type": "markdown",
   "metadata": {},
   "source": [
    "# PPOL 567 Final Project Code\n",
    "## Eric LaRose\n",
    "## May 6, 2021\n",
    "\n",
    "This file contains all the code for the PPOL 567 final project, built around a text narrative that roughly parallels the PDF report document."
   ]
  },
  {
   "cell_type": "markdown",
   "metadata": {},
   "source": [
    "First, let's load the libraries we need and set up our Spark session.\n",
    "\n",
    "## Loading in and Examining Data"
   ]
  },
  {
   "cell_type": "code",
   "execution_count": 1,
   "metadata": {},
   "outputs": [
    {
     "data": {
      "text/html": [
       "\n",
       "        <div>\n",
       "            <p><b>SparkContext</b></p>\n",
       "\n",
       "            <p><a href=\"http://ip-172-31-94-56.ec2.internal:4040\">Spark UI</a></p>\n",
       "\n",
       "            <dl>\n",
       "              <dt>Version</dt>\n",
       "                <dd><code>v2.4.4</code></dd>\n",
       "              <dt>Master</dt>\n",
       "                <dd><code>yarn</code></dd>\n",
       "              <dt>AppName</dt>\n",
       "                <dd><code>pyspark-shell</code></dd>\n",
       "            </dl>\n",
       "        </div>\n",
       "        "
      ],
      "text/plain": [
       "<SparkContext master=yarn appName=pyspark-shell>"
      ]
     },
     "execution_count": 1,
     "metadata": {},
     "output_type": "execute_result"
    }
   ],
   "source": [
    "# Set up Spark session\n",
    "import findspark\n",
    "findspark.init()\n",
    "from pyspark import SparkContext\n",
    "sc = SparkContext()\n",
    "sc"
   ]
  },
  {
   "cell_type": "code",
   "execution_count": 2,
   "metadata": {
    "tags": []
   },
   "outputs": [],
   "source": [
    "# Build an application\n",
    "from pyspark.sql import SparkSession\n",
    "spark=SparkSession.builder.appName(\"final_project\").getOrCreate()"
   ]
  },
  {
   "cell_type": "markdown",
   "metadata": {},
   "source": [
    "Next, let's load in the entire dataset using the code provided in the instructions for reading in a JSON file."
   ]
  },
  {
   "cell_type": "code",
   "execution_count": 3,
   "metadata": {},
   "outputs": [
    {
     "data": {
      "text/plain": [
       "[(0,\n",
       "  '{\"archived\":false,\"author\":\"TistedLogic\",\"author_created_utc\":1312615878,\"author_flair_background_color\":null,\"author_flair_css_class\":null,\"author_flair_richtext\":[],\"author_flair_template_id\":null,\"author_flair_text\":null,\"author_flair_text_color\":null,\"author_flair_type\":\"text\",\"author_fullname\":\"t2_5mk6v\",\"author_patreon_flair\":false,\"body\":\"Is it still r\\\\/BoneAppleTea worthy if it\\'s the opposite?\",\"can_gild\":true,\"can_mod_post\":false,\"collapsed\":false,\"collapsed_reason\":null,\"controversiality\":0,\"created_utc\":1538352000,\"distinguished\":null,\"edited\":false,\"gilded\":0,\"gildings\":{\"gid_1\":0,\"gid_2\":0,\"gid_3\":0},\"id\":\"e6xucdd\",\"is_submitter\":false,\"link_id\":\"t3_9ka1hp\",\"no_follow\":true,\"parent_id\":\"t1_e6xu13x\",\"permalink\":\"\\\\/r\\\\/Unexpected\\\\/comments\\\\/9ka1hp\\\\/jesus_fking_woah\\\\/e6xucdd\\\\/\",\"removal_reason\":null,\"retrieved_on\":1539714091,\"score\":2,\"send_replies\":true,\"stickied\":false,\"subreddit\":\"Unexpected\",\"subreddit_id\":\"t5_2w67q\",\"subreddit_name_prefixed\":\"r\\\\/Unexpected\",\"subreddit_type\":\"public\"}'),\n",
       " (70130,\n",
       "  '{\"archived\":false,\"author\":\"misssaladfingers\",\"author_created_utc\":1536864574,\"author_flair_background_color\":null,\"author_flair_css_class\":null,\"author_flair_richtext\":[],\"author_flair_template_id\":null,\"author_flair_text\":null,\"author_flair_text_color\":null,\"author_flair_type\":\"text\",\"author_fullname\":\"t2_27d914lh\",\"author_patreon_flair\":false,\"body\":\"I\\'ve tried and it\\'s hit and miss. When it\\'s good I feel more rested even though I\\'ve not slept well but sometimes it doesn\\'t work\",\"can_gild\":true,\"can_mod_post\":false,\"collapsed\":false,\"collapsed_reason\":null,\"controversiality\":0,\"created_utc\":1538352000,\"distinguished\":null,\"edited\":false,\"gilded\":0,\"gildings\":{\"gid_1\":0,\"gid_2\":0,\"gid_3\":0},\"id\":\"e6xucde\",\"is_submitter\":false,\"link_id\":\"t3_9k8bp4\",\"no_follow\":true,\"parent_id\":\"t1_e6xu9sk\",\"permalink\":\"\\\\/r\\\\/insomnia\\\\/comments\\\\/9k8bp4\\\\/melatonin\\\\/e6xucde\\\\/\",\"removal_reason\":null,\"retrieved_on\":1539714091,\"score\":1,\"send_replies\":true,\"stickied\":false,\"subreddit\":\"insomnia\",\"subreddit_id\":\"t5_2qh3g\",\"subreddit_name_prefixed\":\"r\\\\/insomnia\",\"subreddit_type\":\"public\"}'),\n",
       " (70130,\n",
       "  '{\"archived\":false,\"author\":\"Increase_Vitality\",\"author_created_utc\":1467816973,\"author_flair_background_color\":null,\"author_flair_css_class\":null,\"author_flair_richtext\":[],\"author_flair_template_id\":null,\"author_flair_text\":null,\"author_flair_text_color\":null,\"author_flair_type\":\"text\",\"author_fullname\":\"t2_zai83\",\"author_patreon_flair\":false,\"body\":\"Hey that\\'s great, I mean it. \\\\n\\\\nIn the other progress pic comment section there was a Redditor who talked about posting his own progress pic six months ago and mentioned he\\'d already put it back on and was dieting again.\\\\n\\\\nI\\'m not saying this to be an asshole, but the reality is that the vast majority of people who get healthy end up putting the weight back on. Do some research and find out what a healthy relationship with food looks like (if you haven\\'t already). \\\\n\\\\nAs good as you feel now (and you\\'ve earned it), you\\'ll feel equally as depressed if you wind up taking another ride on the rolly-polly-coaster. \\\\n\\\\nFind some healthy recipes, pick up an active hobby, maybe grow your own veggie garden and you\\'ll find out junk food doesn\\'t actually taste all that good. And give yourself a break once in a while, you\\'re doing alright.\",\"can_gild\":true,\"can_mod_post\":false,\"collapsed\":false,\"collapsed_reason\":null,\"controversiality\":0,\"created_utc\":1538352000,\"distinguished\":null,\"edited\":false,\"gilded\":0,\"gildings\":{\"gid_1\":0,\"gid_2\":0,\"gid_3\":0},\"id\":\"e6xucdf\",\"is_submitter\":false,\"link_id\":\"t3_9kaitz\",\"no_follow\":false,\"parent_id\":\"t3_9kaitz\",\"permalink\":\"\\\\/r\\\\/pics\\\\/comments\\\\/9kaitz\\\\/my_weight_loss_journey_so_far_im_never_getting\\\\/e6xucdf\\\\/\",\"removal_reason\":null,\"retrieved_on\":1539714091,\"score\":37,\"send_replies\":true,\"stickied\":false,\"subreddit\":\"pics\",\"subreddit_id\":\"t5_2qh0u\",\"subreddit_name_prefixed\":\"r\\\\/pics\",\"subreddit_type\":\"public\"}'),\n",
       " (70130,\n",
       "  '{\"archived\":false,\"author\":\"volkanize\",\"author_created_utc\":1531799209,\"author_flair_background_color\":null,\"author_flair_css_class\":null,\"author_flair_richtext\":[],\"author_flair_template_id\":null,\"author_flair_text\":null,\"author_flair_text_color\":null,\"author_flair_type\":\"text\",\"author_fullname\":\"t2_1siqxwxg\",\"author_patreon_flair\":false,\"body\":\"once a guy pulled a gun on me and i ran like 300m really fast but then i stopped so i think it would help you like in a 100m sprint but not more than 300m for sure because you would run out of energy \",\"can_gild\":true,\"can_mod_post\":false,\"collapsed\":false,\"collapsed_reason\":null,\"controversiality\":0,\"created_utc\":1538352000,\"distinguished\":null,\"edited\":false,\"gilded\":0,\"gildings\":{\"gid_1\":0,\"gid_2\":0,\"gid_3\":0},\"id\":\"e6xucdg\",\"is_submitter\":false,\"link_id\":\"t3_9k6x53\",\"no_follow\":true,\"parent_id\":\"t3_9k6x53\",\"permalink\":\"\\\\/r\\\\/NoStupidQuestions\\\\/comments\\\\/9k6x53\\\\/if_im_in_a_dangerous_situation_where_i_have_to\\\\/e6xucdg\\\\/\",\"removal_reason\":null,\"retrieved_on\":1539714091,\"score\":1,\"send_replies\":true,\"stickied\":false,\"subreddit\":\"NoStupidQuestions\",\"subreddit_id\":\"t5_2w844\",\"subreddit_name_prefixed\":\"r\\\\/NoStupidQuestions\",\"subreddit_type\":\"public\"}'),\n",
       " (70130,\n",
       "  '{\"archived\":false,\"author\":\"[deleted]\",\"author_created_utc\":null,\"author_flair_background_color\":\"\",\"author_flair_css_class\":null,\"author_flair_template_id\":null,\"author_flair_text\":null,\"author_flair_text_color\":\"dark\",\"author_fullname\":null,\"body\":\"[removed]\",\"can_gild\":true,\"can_mod_post\":false,\"collapsed\":true,\"collapsed_reason\":null,\"controversiality\":0,\"created_utc\":1538352000,\"distinguished\":null,\"edited\":false,\"gilded\":0,\"gildings\":{\"gid_1\":0,\"gid_2\":0,\"gid_3\":0},\"id\":\"e6xucdh\",\"is_submitter\":false,\"link_id\":\"t3_9jwg3k\",\"no_follow\":true,\"parent_id\":\"t1_e6xuarg\",\"permalink\":\"\\\\/r\\\\/steroids\\\\/comments\\\\/9jwg3k\\\\/daily_ask_anything_20180929\\\\/e6xucdh\\\\/\",\"removal_reason\":null,\"retrieved_on\":1539714091,\"score\":1,\"send_replies\":true,\"stickied\":false,\"subreddit\":\"steroids\",\"subreddit_id\":\"t5_2rifm\",\"subreddit_name_prefixed\":\"r\\\\/steroids\",\"subreddit_type\":\"restricted\"}'),\n",
       " (70130,\n",
       "  '{\"archived\":false,\"author\":\"FeveredArtist\",\"author_created_utc\":1489989972,\"author_flair_background_color\":null,\"author_flair_css_class\":null,\"author_flair_richtext\":[],\"author_flair_template_id\":null,\"author_flair_text\":null,\"author_flair_text_color\":null,\"author_flair_type\":\"text\",\"author_fullname\":\"t2_16c8mc\",\"author_patreon_flair\":false,\"body\":\"It requires a lot of memory and many phones can barely run fortnite as is. Give it more time. Also I rather have bugs fixed and optimization than stats. \",\"can_gild\":true,\"can_mod_post\":false,\"collapsed\":false,\"collapsed_reason\":null,\"controversiality\":0,\"created_utc\":1538352000,\"distinguished\":null,\"edited\":false,\"gilded\":0,\"gildings\":{\"gid_1\":0,\"gid_2\":0,\"gid_3\":0},\"id\":\"e6xucdi\",\"is_submitter\":false,\"link_id\":\"t3_9kb89u\",\"no_follow\":true,\"parent_id\":\"t3_9kb89u\",\"permalink\":\"\\\\/r\\\\/FortNiteMobile\\\\/comments\\\\/9kb89u\\\\/im_not_going_to_play_this_game_again_until_stats\\\\/e6xucdi\\\\/\",\"removal_reason\":null,\"retrieved_on\":1539714091,\"score\":1,\"send_replies\":true,\"stickied\":false,\"subreddit\":\"FortNiteMobile\",\"subreddit_id\":\"t5_gn5j5\",\"subreddit_name_prefixed\":\"r\\\\/FortNiteMobile\",\"subreddit_type\":\"public\"}'),\n",
       " (70130,\n",
       "  '{\"archived\":false,\"author\":\"BanzaiDanielsan\",\"author_created_utc\":1441306713,\"author_flair_background_color\":null,\"author_flair_css_class\":null,\"author_flair_richtext\":[],\"author_flair_template_id\":null,\"author_flair_text\":null,\"author_flair_text_color\":null,\"author_flair_type\":\"text\",\"author_fullname\":\"t2_q3ub9\",\"author_patreon_flair\":false,\"body\":\"Calm down, that\\'s not what OP said at all. You just wanted to get angry about something.\",\"can_gild\":true,\"can_mod_post\":false,\"collapsed\":false,\"collapsed_reason\":null,\"controversiality\":0,\"created_utc\":1538352000,\"distinguished\":null,\"edited\":false,\"gilded\":0,\"gildings\":{\"gid_1\":0,\"gid_2\":0,\"gid_3\":0},\"id\":\"e6xucdj\",\"is_submitter\":false,\"link_id\":\"t3_9k732a\",\"no_follow\":false,\"parent_id\":\"t1_e6xswsf\",\"permalink\":\"\\\\/r\\\\/AskReddit\\\\/comments\\\\/9k732a\\\\/whats_the_most_unfair_thing_youve_ever_seen\\\\/e6xucdj\\\\/\",\"removal_reason\":null,\"retrieved_on\":1539714092,\"score\":12,\"send_replies\":true,\"stickied\":false,\"subreddit\":\"AskReddit\",\"subreddit_id\":\"t5_2qh1i\",\"subreddit_name_prefixed\":\"r\\\\/AskReddit\",\"subreddit_type\":\"public\"}'),\n",
       " (70130,\n",
       "  '{\"archived\":false,\"author\":\"darkhorn\",\"author_created_utc\":1263703082,\"author_flair_background_color\":null,\"author_flair_css_class\":null,\"author_flair_richtext\":[],\"author_flair_template_id\":null,\"author_flair_text\":null,\"author_flair_text_color\":null,\"author_flair_type\":\"text\",\"author_fullname\":\"t2_3twqn\",\"author_patreon_flair\":false,\"body\":\"Kay\\\\u0131t i\\\\u00e7in okulumuza ba\\\\u011f\\\\u0131\\\\u015f yapmak zorundas\\\\u0131n\\\\u0131z.\",\"can_gild\":true,\"can_mod_post\":false,\"collapsed\":false,\"collapsed_reason\":null,\"controversiality\":0,\"created_utc\":1538352000,\"distinguished\":null,\"edited\":false,\"gilded\":0,\"gildings\":{\"gid_1\":0,\"gid_2\":0,\"gid_3\":0},\"id\":\"e6xucdk\",\"is_submitter\":false,\"link_id\":\"t3_9k8d6d\",\"no_follow\":false,\"parent_id\":\"t3_9k8d6d\",\"permalink\":\"\\\\/r\\\\/Turkey\\\\/comments\\\\/9k8d6d\\\\/yerli_\\\\u00fcretim_ithal_muz\\\\/e6xucdk\\\\/\",\"removal_reason\":null,\"retrieved_on\":1539714092,\"score\":3,\"send_replies\":true,\"stickied\":false,\"subreddit\":\"Turkey\",\"subreddit_id\":\"t5_2qlnu\",\"subreddit_name_prefixed\":\"r\\\\/Turkey\",\"subreddit_type\":\"public\"}'),\n",
       " (70130,\n",
       "  '{\"archived\":false,\"author\":\"minimansauce\",\"author_created_utc\":1360339242,\"author_flair_background_color\":null,\"author_flair_css_class\":null,\"author_flair_richtext\":[],\"author_flair_template_id\":null,\"author_flair_text\":null,\"author_flair_text_color\":null,\"author_flair_type\":\"text\",\"author_fullname\":\"t2_aivhs\",\"author_patreon_flair\":false,\"body\":\"So I can\\\\u2019t lie I\\\\u2019ve never actually measured myself (I don\\\\u2019t get to work with any live pangolins) but they can stick out their tongue about 10 inches according to the internet. Check out [this](https:\\\\/\\\\/pangolin2017.files.wordpress.com\\\\/2017\\\\/05\\\\/0c0e11dfd70d183bd384e0faec4fa95c-jpg.png?w=900) picture to see how pangolins keep such a long tongue in their bodies. \",\"can_gild\":true,\"can_mod_post\":false,\"collapsed\":false,\"collapsed_reason\":null,\"controversiality\":0,\"created_utc\":1538352000,\"distinguished\":null,\"edited\":false,\"gilded\":0,\"gildings\":{\"gid_1\":0,\"gid_2\":0,\"gid_3\":0},\"id\":\"e6xucdl\",\"is_submitter\":false,\"link_id\":\"t3_9k8ht2\",\"no_follow\":false,\"parent_id\":\"t1_e6xp0u4\",\"permalink\":\"\\\\/r\\\\/NatureIsFuckingLit\\\\/comments\\\\/9k8ht2\\\\/pangolin_climbing_a_tree\\\\/e6xucdl\\\\/\",\"removal_reason\":null,\"retrieved_on\":1539714092,\"score\":8,\"send_replies\":true,\"stickied\":false,\"subreddit\":\"NatureIsFuckingLit\",\"subreddit_id\":\"t5_3gdh7\",\"subreddit_name_prefixed\":\"r\\\\/NatureIsFuckingLit\",\"subreddit_type\":\"public\"}'),\n",
       " (70130,\n",
       "  '{\"archived\":false,\"author\":\"mods_blow_goats\",\"author_created_utc\":1529705980,\"author_flair_background_color\":\"\",\"author_flair_css_class\":\"kekistan\",\"author_flair_richtext\":[],\"author_flair_template_id\":\"9479ab46-10e8-11e7-864c-0e66a24feb62\",\"author_flair_text\":\"KEK\",\"author_flair_text_color\":\"dark\",\"author_flair_type\":\"text\",\"author_fullname\":\"t2_1mk17lny\",\"author_patreon_flair\":false,\"body\":\"Agreed. The NFL just can\\\\u2019t stop fucking up this whole thing. \",\"can_gild\":true,\"can_mod_post\":false,\"collapsed\":false,\"collapsed_reason\":null,\"controversiality\":0,\"created_utc\":1538352000,\"distinguished\":null,\"edited\":false,\"gilded\":0,\"gildings\":{\"gid_1\":0,\"gid_2\":0,\"gid_3\":0},\"id\":\"e6xucdm\",\"is_submitter\":false,\"link_id\":\"t3_9kb9oq\",\"no_follow\":false,\"parent_id\":\"t1_e6xu7vw\",\"permalink\":\"\\\\/r\\\\/The_Donald\\\\/comments\\\\/9kb9oq\\\\/a_boycott_is_not_good_enough_this_is_blatant\\\\/e6xucdm\\\\/\",\"removal_reason\":null,\"retrieved_on\":1539714092,\"score\":29,\"send_replies\":true,\"stickied\":false,\"subreddit\":\"The_Donald\",\"subreddit_id\":\"t5_38unr\",\"subreddit_name_prefixed\":\"r\\\\/The_Donald\",\"subreddit_type\":\"public\"}')]"
      ]
     },
     "execution_count": 3,
     "metadata": {},
     "output_type": "execute_result"
    }
   ],
   "source": [
    "# Load in the entire dataset, which should have 476,259,744 rows\n",
    "json_lzo = sc.newAPIHadoopFile(\"s3://bigdatateaching/reddit/lzo/\", \"com.hadoop.mapreduce.LzoTextInputFormat\", \"org.apache.hadoop.io.LongWritable\", \"org.apache.hadoop.io.Text\")\n",
    "# Look at first 10 rows\n",
    "json_lzo.take(10)\n",
    "\n",
    "# Use the commented out line below to instead load in only the sample data with 1 million rows\n",
    "#json_lzo = sc.newAPIHadoopFile(\"s3://bigdatateaching/reddit/sample-data/1m-line-sample.json.lzo\", \"com.hadoop.mapreduce.LzoTextInputFormat\", \"org.apache.hadoop.io.LongWritable\", \"org.apache.hadoop.io.Text\")\n"
   ]
  },
  {
   "cell_type": "markdown",
   "metadata": {},
   "source": [
    "We can see that this file is still in a JSON format, not at all suitable for a row/column structure. Next, let's use the code provided by Landry in the discussion forum on Canvas to convert this to a structured dataset where we can easily analyze rows and columns."
   ]
  },
  {
   "cell_type": "code",
   "execution_count": 4,
   "metadata": {},
   "outputs": [],
   "source": [
    "# Obtaining the schema from the data sample\n",
    "data = spark.read.json(\"s3://bigdatateaching/reddit/sample-data/1m-line-sample.json\")\n",
    "schema = data.schema.json()\n",
    "from pyspark.sql.types import *\n",
    "from pyspark.sql.functions import col\n",
    "import json\n",
    "new_schema = StructType.fromJson(json.loads(schema))\n",
    "new_schema\n",
    "\n",
    "# map the schema into the raw dataset\n",
    "from pyspark.sql import Row \n",
    "import pyspark.sql.functions as F\n",
    "\n",
    "# This data object is a Spark DataFrame\n",
    "reddit_comments_data_DF = json_lzo.map(lambda x:Row(x[1]))\\\n",
    ".toDF(['raw'])\\\n",
    ".select(F.from_json('raw',new_schema).alias('json')).select('json.*')\n"
   ]
  },
  {
   "cell_type": "markdown",
   "metadata": {},
   "source": [
    "Next, let's look at the schema of the data and the number of total rows."
   ]
  },
  {
   "cell_type": "code",
   "execution_count": 5,
   "metadata": {},
   "outputs": [
    {
     "name": "stdout",
     "output_type": "stream",
     "text": [
      "root\n",
      " |-- archived: boolean (nullable = true)\n",
      " |-- author: string (nullable = true)\n",
      " |-- author_cakeday: boolean (nullable = true)\n",
      " |-- author_created_utc: long (nullable = true)\n",
      " |-- author_flair_background_color: string (nullable = true)\n",
      " |-- author_flair_css_class: string (nullable = true)\n",
      " |-- author_flair_richtext: array (nullable = true)\n",
      " |    |-- element: struct (containsNull = true)\n",
      " |    |    |-- a: string (nullable = true)\n",
      " |    |    |-- e: string (nullable = true)\n",
      " |    |    |-- t: string (nullable = true)\n",
      " |    |    |-- u: string (nullable = true)\n",
      " |-- author_flair_template_id: string (nullable = true)\n",
      " |-- author_flair_text: string (nullable = true)\n",
      " |-- author_flair_text_color: string (nullable = true)\n",
      " |-- author_flair_type: string (nullable = true)\n",
      " |-- author_fullname: string (nullable = true)\n",
      " |-- author_patreon_flair: boolean (nullable = true)\n",
      " |-- body: string (nullable = true)\n",
      " |-- can_gild: boolean (nullable = true)\n",
      " |-- can_mod_post: boolean (nullable = true)\n",
      " |-- collapsed: boolean (nullable = true)\n",
      " |-- collapsed_reason: string (nullable = true)\n",
      " |-- controversiality: long (nullable = true)\n",
      " |-- created_utc: long (nullable = true)\n",
      " |-- distinguished: string (nullable = true)\n",
      " |-- edited: string (nullable = true)\n",
      " |-- gilded: long (nullable = true)\n",
      " |-- gildings: struct (nullable = true)\n",
      " |    |-- gid_1: long (nullable = true)\n",
      " |    |-- gid_2: long (nullable = true)\n",
      " |    |-- gid_3: long (nullable = true)\n",
      " |-- id: string (nullable = true)\n",
      " |-- is_submitter: boolean (nullable = true)\n",
      " |-- link_id: string (nullable = true)\n",
      " |-- no_follow: boolean (nullable = true)\n",
      " |-- parent_id: string (nullable = true)\n",
      " |-- permalink: string (nullable = true)\n",
      " |-- removal_reason: string (nullable = true)\n",
      " |-- retrieved_on: long (nullable = true)\n",
      " |-- score: long (nullable = true)\n",
      " |-- send_replies: boolean (nullable = true)\n",
      " |-- stickied: boolean (nullable = true)\n",
      " |-- subreddit: string (nullable = true)\n",
      " |-- subreddit_id: string (nullable = true)\n",
      " |-- subreddit_name_prefixed: string (nullable = true)\n",
      " |-- subreddit_type: string (nullable = true)\n",
      "\n",
      "None\n",
      "Number of comments is  476259744\n"
     ]
    }
   ],
   "source": [
    "# Let's look at the Schema of this data\n",
    "print(reddit_comments_data_DF.printSchema())\n",
    "\n",
    "# Additionally, let's look at the number of rows\n",
    "print(\"Number of comments is \", reddit_comments_data_DF.count())"
   ]
  },
  {
   "cell_type": "markdown",
   "metadata": {},
   "source": [
    "We can see that there are 476,259,744 rows, or comments, in the dataset. Now that we have seen the schema above, next, let's look at the first 10 rows of the data to get a better idea of what the data looks like."
   ]
  },
  {
   "cell_type": "code",
   "execution_count": 6,
   "metadata": {},
   "outputs": [
    {
     "data": {
      "text/plain": [
       "[Row(archived=False, author='TistedLogic', author_cakeday=None, author_created_utc=1312615878, author_flair_background_color=None, author_flair_css_class=None, author_flair_richtext=[], author_flair_template_id=None, author_flair_text=None, author_flair_text_color=None, author_flair_type='text', author_fullname='t2_5mk6v', author_patreon_flair=False, body=\"Is it still r/BoneAppleTea worthy if it's the opposite?\", can_gild=True, can_mod_post=False, collapsed=False, collapsed_reason=None, controversiality=0, created_utc=1538352000, distinguished=None, edited='false', gilded=0, gildings=Row(gid_1=0, gid_2=0, gid_3=0), id='e6xucdd', is_submitter=False, link_id='t3_9ka1hp', no_follow=True, parent_id='t1_e6xu13x', permalink='/r/Unexpected/comments/9ka1hp/jesus_fking_woah/e6xucdd/', removal_reason=None, retrieved_on=1539714091, score=2, send_replies=True, stickied=False, subreddit='Unexpected', subreddit_id='t5_2w67q', subreddit_name_prefixed='r/Unexpected', subreddit_type='public'),\n",
       " Row(archived=False, author='misssaladfingers', author_cakeday=None, author_created_utc=1536864574, author_flair_background_color=None, author_flair_css_class=None, author_flair_richtext=[], author_flair_template_id=None, author_flair_text=None, author_flair_text_color=None, author_flair_type='text', author_fullname='t2_27d914lh', author_patreon_flair=False, body=\"I've tried and it's hit and miss. When it's good I feel more rested even though I've not slept well but sometimes it doesn't work\", can_gild=True, can_mod_post=False, collapsed=False, collapsed_reason=None, controversiality=0, created_utc=1538352000, distinguished=None, edited='false', gilded=0, gildings=Row(gid_1=0, gid_2=0, gid_3=0), id='e6xucde', is_submitter=False, link_id='t3_9k8bp4', no_follow=True, parent_id='t1_e6xu9sk', permalink='/r/insomnia/comments/9k8bp4/melatonin/e6xucde/', removal_reason=None, retrieved_on=1539714091, score=1, send_replies=True, stickied=False, subreddit='insomnia', subreddit_id='t5_2qh3g', subreddit_name_prefixed='r/insomnia', subreddit_type='public'),\n",
       " Row(archived=False, author='Increase_Vitality', author_cakeday=None, author_created_utc=1467816973, author_flair_background_color=None, author_flair_css_class=None, author_flair_richtext=[], author_flair_template_id=None, author_flair_text=None, author_flair_text_color=None, author_flair_type='text', author_fullname='t2_zai83', author_patreon_flair=False, body=\"Hey that's great, I mean it. \\n\\nIn the other progress pic comment section there was a Redditor who talked about posting his own progress pic six months ago and mentioned he'd already put it back on and was dieting again.\\n\\nI'm not saying this to be an asshole, but the reality is that the vast majority of people who get healthy end up putting the weight back on. Do some research and find out what a healthy relationship with food looks like (if you haven't already). \\n\\nAs good as you feel now (and you've earned it), you'll feel equally as depressed if you wind up taking another ride on the rolly-polly-coaster. \\n\\nFind some healthy recipes, pick up an active hobby, maybe grow your own veggie garden and you'll find out junk food doesn't actually taste all that good. And give yourself a break once in a while, you're doing alright.\", can_gild=True, can_mod_post=False, collapsed=False, collapsed_reason=None, controversiality=0, created_utc=1538352000, distinguished=None, edited='false', gilded=0, gildings=Row(gid_1=0, gid_2=0, gid_3=0), id='e6xucdf', is_submitter=False, link_id='t3_9kaitz', no_follow=False, parent_id='t3_9kaitz', permalink='/r/pics/comments/9kaitz/my_weight_loss_journey_so_far_im_never_getting/e6xucdf/', removal_reason=None, retrieved_on=1539714091, score=37, send_replies=True, stickied=False, subreddit='pics', subreddit_id='t5_2qh0u', subreddit_name_prefixed='r/pics', subreddit_type='public'),\n",
       " Row(archived=False, author='volkanize', author_cakeday=None, author_created_utc=1531799209, author_flair_background_color=None, author_flair_css_class=None, author_flair_richtext=[], author_flair_template_id=None, author_flair_text=None, author_flair_text_color=None, author_flair_type='text', author_fullname='t2_1siqxwxg', author_patreon_flair=False, body='once a guy pulled a gun on me and i ran like 300m really fast but then i stopped so i think it would help you like in a 100m sprint but not more than 300m for sure because you would run out of energy ', can_gild=True, can_mod_post=False, collapsed=False, collapsed_reason=None, controversiality=0, created_utc=1538352000, distinguished=None, edited='false', gilded=0, gildings=Row(gid_1=0, gid_2=0, gid_3=0), id='e6xucdg', is_submitter=False, link_id='t3_9k6x53', no_follow=True, parent_id='t3_9k6x53', permalink='/r/NoStupidQuestions/comments/9k6x53/if_im_in_a_dangerous_situation_where_i_have_to/e6xucdg/', removal_reason=None, retrieved_on=1539714091, score=1, send_replies=True, stickied=False, subreddit='NoStupidQuestions', subreddit_id='t5_2w844', subreddit_name_prefixed='r/NoStupidQuestions', subreddit_type='public'),\n",
       " Row(archived=False, author='[deleted]', author_cakeday=None, author_created_utc=None, author_flair_background_color='', author_flair_css_class=None, author_flair_richtext=None, author_flair_template_id=None, author_flair_text=None, author_flair_text_color='dark', author_flair_type=None, author_fullname=None, author_patreon_flair=None, body='[removed]', can_gild=True, can_mod_post=False, collapsed=True, collapsed_reason=None, controversiality=0, created_utc=1538352000, distinguished=None, edited='false', gilded=0, gildings=Row(gid_1=0, gid_2=0, gid_3=0), id='e6xucdh', is_submitter=False, link_id='t3_9jwg3k', no_follow=True, parent_id='t1_e6xuarg', permalink='/r/steroids/comments/9jwg3k/daily_ask_anything_20180929/e6xucdh/', removal_reason=None, retrieved_on=1539714091, score=1, send_replies=True, stickied=False, subreddit='steroids', subreddit_id='t5_2rifm', subreddit_name_prefixed='r/steroids', subreddit_type='restricted'),\n",
       " Row(archived=False, author='FeveredArtist', author_cakeday=None, author_created_utc=1489989972, author_flair_background_color=None, author_flair_css_class=None, author_flair_richtext=[], author_flair_template_id=None, author_flair_text=None, author_flair_text_color=None, author_flair_type='text', author_fullname='t2_16c8mc', author_patreon_flair=False, body='It requires a lot of memory and many phones can barely run fortnite as is. Give it more time. Also I rather have bugs fixed and optimization than stats. ', can_gild=True, can_mod_post=False, collapsed=False, collapsed_reason=None, controversiality=0, created_utc=1538352000, distinguished=None, edited='false', gilded=0, gildings=Row(gid_1=0, gid_2=0, gid_3=0), id='e6xucdi', is_submitter=False, link_id='t3_9kb89u', no_follow=True, parent_id='t3_9kb89u', permalink='/r/FortNiteMobile/comments/9kb89u/im_not_going_to_play_this_game_again_until_stats/e6xucdi/', removal_reason=None, retrieved_on=1539714091, score=1, send_replies=True, stickied=False, subreddit='FortNiteMobile', subreddit_id='t5_gn5j5', subreddit_name_prefixed='r/FortNiteMobile', subreddit_type='public'),\n",
       " Row(archived=False, author='BanzaiDanielsan', author_cakeday=None, author_created_utc=1441306713, author_flair_background_color=None, author_flair_css_class=None, author_flair_richtext=[], author_flair_template_id=None, author_flair_text=None, author_flair_text_color=None, author_flair_type='text', author_fullname='t2_q3ub9', author_patreon_flair=False, body=\"Calm down, that's not what OP said at all. You just wanted to get angry about something.\", can_gild=True, can_mod_post=False, collapsed=False, collapsed_reason=None, controversiality=0, created_utc=1538352000, distinguished=None, edited='false', gilded=0, gildings=Row(gid_1=0, gid_2=0, gid_3=0), id='e6xucdj', is_submitter=False, link_id='t3_9k732a', no_follow=False, parent_id='t1_e6xswsf', permalink='/r/AskReddit/comments/9k732a/whats_the_most_unfair_thing_youve_ever_seen/e6xucdj/', removal_reason=None, retrieved_on=1539714092, score=12, send_replies=True, stickied=False, subreddit='AskReddit', subreddit_id='t5_2qh1i', subreddit_name_prefixed='r/AskReddit', subreddit_type='public'),\n",
       " Row(archived=False, author='darkhorn', author_cakeday=None, author_created_utc=1263703082, author_flair_background_color=None, author_flair_css_class=None, author_flair_richtext=[], author_flair_template_id=None, author_flair_text=None, author_flair_text_color=None, author_flair_type='text', author_fullname='t2_3twqn', author_patreon_flair=False, body='Kayıt için okulumuza bağış yapmak zorundasınız.', can_gild=True, can_mod_post=False, collapsed=False, collapsed_reason=None, controversiality=0, created_utc=1538352000, distinguished=None, edited='false', gilded=0, gildings=Row(gid_1=0, gid_2=0, gid_3=0), id='e6xucdk', is_submitter=False, link_id='t3_9k8d6d', no_follow=False, parent_id='t3_9k8d6d', permalink='/r/Turkey/comments/9k8d6d/yerli_üretim_ithal_muz/e6xucdk/', removal_reason=None, retrieved_on=1539714092, score=3, send_replies=True, stickied=False, subreddit='Turkey', subreddit_id='t5_2qlnu', subreddit_name_prefixed='r/Turkey', subreddit_type='public'),\n",
       " Row(archived=False, author='minimansauce', author_cakeday=None, author_created_utc=1360339242, author_flair_background_color=None, author_flair_css_class=None, author_flair_richtext=[], author_flair_template_id=None, author_flair_text=None, author_flair_text_color=None, author_flair_type='text', author_fullname='t2_aivhs', author_patreon_flair=False, body='So I can’t lie I’ve never actually measured myself (I don’t get to work with any live pangolins) but they can stick out their tongue about 10 inches according to the internet. Check out [this](https://pangolin2017.files.wordpress.com/2017/05/0c0e11dfd70d183bd384e0faec4fa95c-jpg.png?w=900) picture to see how pangolins keep such a long tongue in their bodies. ', can_gild=True, can_mod_post=False, collapsed=False, collapsed_reason=None, controversiality=0, created_utc=1538352000, distinguished=None, edited='false', gilded=0, gildings=Row(gid_1=0, gid_2=0, gid_3=0), id='e6xucdl', is_submitter=False, link_id='t3_9k8ht2', no_follow=False, parent_id='t1_e6xp0u4', permalink='/r/NatureIsFuckingLit/comments/9k8ht2/pangolin_climbing_a_tree/e6xucdl/', removal_reason=None, retrieved_on=1539714092, score=8, send_replies=True, stickied=False, subreddit='NatureIsFuckingLit', subreddit_id='t5_3gdh7', subreddit_name_prefixed='r/NatureIsFuckingLit', subreddit_type='public'),\n",
       " Row(archived=False, author='mods_blow_goats', author_cakeday=None, author_created_utc=1529705980, author_flair_background_color='', author_flair_css_class='kekistan', author_flair_richtext=[], author_flair_template_id='9479ab46-10e8-11e7-864c-0e66a24feb62', author_flair_text='KEK', author_flair_text_color='dark', author_flair_type='text', author_fullname='t2_1mk17lny', author_patreon_flair=False, body='Agreed. The NFL just can’t stop fucking up this whole thing. ', can_gild=True, can_mod_post=False, collapsed=False, collapsed_reason=None, controversiality=0, created_utc=1538352000, distinguished=None, edited='false', gilded=0, gildings=Row(gid_1=0, gid_2=0, gid_3=0), id='e6xucdm', is_submitter=False, link_id='t3_9kb9oq', no_follow=False, parent_id='t1_e6xu7vw', permalink='/r/The_Donald/comments/9kb9oq/a_boycott_is_not_good_enough_this_is_blatant/e6xucdm/', removal_reason=None, retrieved_on=1539714092, score=29, send_replies=True, stickied=False, subreddit='The_Donald', subreddit_id='t5_38unr', subreddit_name_prefixed='r/The_Donald', subreddit_type='public')]"
      ]
     },
     "execution_count": 6,
     "metadata": {},
     "output_type": "execute_result"
    }
   ],
   "source": [
    "# Look at first 10 rows of the data\n",
    "reddit_comments_data_DF.take(10)"
   ]
  },
  {
   "cell_type": "markdown",
   "metadata": {},
   "source": [
    "From the output above, we can see that this table contains a lot of information, much of which is probably of little interest to us. For instance, there are several variables that are essentially just \"ID\" variables, either of the post or the author. There are several variables that seem to correspond to author characteristics, which we also are probably not interested in. \n",
    "\n",
    "When looking at a Reddit post (on Reddit's website), some of the key components are the text of the post itself, the \"score\" or number of upvotes, and the subreddit it's posted on. First, let's look at the body of the post itself, as that is the \"meat\" of this dataset."
   ]
  },
  {
   "cell_type": "code",
   "execution_count": 7,
   "metadata": {},
   "outputs": [
    {
     "data": {
      "text/plain": [
       "[Row(body=\"Is it still r/BoneAppleTea worthy if it's the opposite?\"),\n",
       " Row(body=\"I've tried and it's hit and miss. When it's good I feel more rested even though I've not slept well but sometimes it doesn't work\"),\n",
       " Row(body=\"Hey that's great, I mean it. \\n\\nIn the other progress pic comment section there was a Redditor who talked about posting his own progress pic six months ago and mentioned he'd already put it back on and was dieting again.\\n\\nI'm not saying this to be an asshole, but the reality is that the vast majority of people who get healthy end up putting the weight back on. Do some research and find out what a healthy relationship with food looks like (if you haven't already). \\n\\nAs good as you feel now (and you've earned it), you'll feel equally as depressed if you wind up taking another ride on the rolly-polly-coaster. \\n\\nFind some healthy recipes, pick up an active hobby, maybe grow your own veggie garden and you'll find out junk food doesn't actually taste all that good. And give yourself a break once in a while, you're doing alright.\"),\n",
       " Row(body='once a guy pulled a gun on me and i ran like 300m really fast but then i stopped so i think it would help you like in a 100m sprint but not more than 300m for sure because you would run out of energy '),\n",
       " Row(body='[removed]'),\n",
       " Row(body='It requires a lot of memory and many phones can barely run fortnite as is. Give it more time. Also I rather have bugs fixed and optimization than stats. '),\n",
       " Row(body=\"Calm down, that's not what OP said at all. You just wanted to get angry about something.\"),\n",
       " Row(body='Kayıt için okulumuza bağış yapmak zorundasınız.'),\n",
       " Row(body='So I can’t lie I’ve never actually measured myself (I don’t get to work with any live pangolins) but they can stick out their tongue about 10 inches according to the internet. Check out [this](https://pangolin2017.files.wordpress.com/2017/05/0c0e11dfd70d183bd384e0faec4fa95c-jpg.png?w=900) picture to see how pangolins keep such a long tongue in their bodies. '),\n",
       " Row(body='Agreed. The NFL just can’t stop fucking up this whole thing. '),\n",
       " Row(body='Gogogo'),\n",
       " Row(body=\"Feel welcome to stay on our side of the aisle, we all have our differences, but we support your freedom and liberty.  We don't think the government should be so involved in your life decisions.\"),\n",
       " Row(body='Nice! I’m going out for dinner with him right and I’ll check when I get home. I’m very interested to read that'),\n",
       " Row(body='Le sigh. '),\n",
       " Row(body='Wow. What on earth did the first person say to lead us down this road?\\n\\nEdit: I’m not sure if I should also come down this road but I do have a real question about canary website. I first learn about it a couple years ago when I lived in Hong Kong and was member of Hong Kong police force. My son had new friend who was studying for semester who was from US. I google his name on work computer and the site called canary has link with his name on it. \\n\\nFor some reason site was blocked at work and I found strange because as member of police they don’t block much on work computer. I use phone to look at it and the information about my sons friend seemed very bad and they paint him as extremest. I met the young man and talk with him and I wonder if this site is a trusted source. \\n\\nI’m sorry if I help feed the negative first comments but I have real question. '),\n",
       " Row(body='I agree with all that, but saying in your original post that it was a \"normal\" serpent is clearly wrong. Jesus I can\\'t believe I got downvoted for pointing that out. wtf'),\n",
       " Row(body='Because reddit is full of left-wingers. Which is ironic considering reddit was founded by people that believed in freedom of speech, which is a Libertarian rather than a leftist position.'),\n",
       " Row(body='That and she looks young. Which means pop culture and social media and liberal teachers have a big influence still.  Give her some time. '),\n",
       " Row(body='Is this the meaning of life '),\n",
       " Row(body=\"I'd love to see a behind the sea video where it's like a cartoon or something\")]"
      ]
     },
     "execution_count": 7,
     "metadata": {},
     "output_type": "execute_result"
    }
   ],
   "source": [
    "# Show the actual text of the first twenty Reddit comments in the dataset.\n",
    "reddit_comments_data_DF.select(\"body\").take(20)"
   ]
  },
  {
   "cell_type": "markdown",
   "metadata": {},
   "source": [
    "We can see the actual text of the first 20 comments! But there are immediately several issues apparent (which would be apparent in just about any text analysis dataset). First, there is punctuation and capitalization, etc., which we want to eliminate so that, for instance, \"We\" and \"we\" are not treated as separate words. Second, there are several comments that contain non-English words - there appears to be one comment in French, and there is also a URL provided in one post. We will want to remove rows corresponding to these comments. Additionally, there are several comments that have no substantial content (they are only one or two words, or they appear to have been removed). Furthermore, there are lots of very frequently used \"stop words\" (such as \"the\", \"and\", etc.) which we will want to remove before performing any analysis because otherwise these will bias any calculations of similarity. Finally, we will likely want to remove comments that contain only a handful of words. We clean up the text below.\n",
    "\n",
    "## Cleaning up \"Body\" Column Containing Text\n",
    "\n",
    "First, we remove capitalization and punctuation below."
   ]
  },
  {
   "cell_type": "code",
   "execution_count": 8,
   "metadata": {},
   "outputs": [
    {
     "data": {
      "text/plain": [
       "[Row(body=\"Is it still r/BoneAppleTea worthy if it's the opposite?\", cleaned_body='is it still rboneappletea worthy if its the opposite'),\n",
       " Row(body=\"I've tried and it's hit and miss. When it's good I feel more rested even though I've not slept well but sometimes it doesn't work\", cleaned_body='ive tried and its hit and miss when its good i feel more rested even though ive not slept well but sometimes it doesnt work'),\n",
       " Row(body=\"Hey that's great, I mean it. \\n\\nIn the other progress pic comment section there was a Redditor who talked about posting his own progress pic six months ago and mentioned he'd already put it back on and was dieting again.\\n\\nI'm not saying this to be an asshole, but the reality is that the vast majority of people who get healthy end up putting the weight back on. Do some research and find out what a healthy relationship with food looks like (if you haven't already). \\n\\nAs good as you feel now (and you've earned it), you'll feel equally as depressed if you wind up taking another ride on the rolly-polly-coaster. \\n\\nFind some healthy recipes, pick up an active hobby, maybe grow your own veggie garden and you'll find out junk food doesn't actually taste all that good. And give yourself a break once in a while, you're doing alright.\", cleaned_body='hey thats great i mean it \\n\\nin the other progress pic comment section there was a redditor who talked about posting his own progress pic six months ago and mentioned hed already put it back on and was dieting again\\n\\nim not saying this to be an asshole but the reality is that the vast majority of people who get healthy end up putting the weight back on do some research and find out what a healthy relationship with food looks like if you havent already \\n\\nas good as you feel now and youve earned it youll feel equally as depressed if you wind up taking another ride on the rollypollycoaster \\n\\nfind some healthy recipes pick up an active hobby maybe grow your own veggie garden and youll find out junk food doesnt actually taste all that good and give yourself a break once in a while youre doing alright'),\n",
       " Row(body='once a guy pulled a gun on me and i ran like 300m really fast but then i stopped so i think it would help you like in a 100m sprint but not more than 300m for sure because you would run out of energy ', cleaned_body='once a guy pulled a gun on me and i ran like 300m really fast but then i stopped so i think it would help you like in a 100m sprint but not more than 300m for sure because you would run out of energy '),\n",
       " Row(body='[removed]', cleaned_body='removed')]"
      ]
     },
     "execution_count": 8,
     "metadata": {},
     "output_type": "execute_result"
    }
   ],
   "source": [
    "# First, define a function that removes punctuation from a string and converts\n",
    "# all text to lowercase\n",
    "def convert_to_lowercase_remove_punctuation(input_string):\n",
    "    # Define a list of punctuation that we want to remove\n",
    "    punctuation_to_remove = '.,!?/\"#$&\\'()*+,-:;<=>@%[\\\\]^_`{|}~'\n",
    "    # Remove all punctuation from the string\n",
    "    for punctuation_mark in punctuation_to_remove:\n",
    "        input_string = input_string.replace(punctuation_mark, '')\n",
    "    # Convert the string to lowercase\n",
    "    input_string = input_string.lower()\n",
    "    # Finally, remove any extra whitespace at the beginning or end\n",
    "    intput_string = input_string.strip()\n",
    "    # Remove any extra whitespace within the text (possibly accounting for 2-5 spaces)\n",
    "    input_string = input_string.replace('     ', ' ')\n",
    "    input_string = input_string.replace('    ', ' ')\n",
    "    input_string = input_string.replace('   ', ' ')\n",
    "    input_string = input_string.replace('  ', ' ')\n",
    "\n",
    "    # Return the cleaned string\n",
    "    return input_string\n",
    "\n",
    "# Need this to apply user-defined functions in Spark\n",
    "from pyspark.sql.functions import udf\n",
    "# Specify above function as a UDF \n",
    "udf_remove_punc = udf(convert_to_lowercase_remove_punctuation)\n",
    "# Apply this function to \"body\" column\n",
    "reddit_comments_data_DF = reddit_comments_data_DF.withColumn(\"cleaned_body\", udf_remove_punc(\"body\")) \n",
    "\n",
    "# Compare \"body\" and \"cleaned_body\" columns to make sure function worked!\n",
    "reddit_comments_data_DF.select(\"body\", \"cleaned_body\").take(5)\n"
   ]
  },
  {
   "cell_type": "markdown",
   "metadata": {},
   "source": [
    "We can see that we have successfully removed punctuation and capitalization! Next, we want to tokenize the body, or convert it to an array of words (rather than one long string, as it currently is), before performing any further analysis. "
   ]
  },
  {
   "cell_type": "code",
   "execution_count": 9,
   "metadata": {},
   "outputs": [
    {
     "data": {
      "text/plain": [
       "[Row(body=\"Is it still r/BoneAppleTea worthy if it's the opposite?\", cleaned_body='is it still rboneappletea worthy if its the opposite', tokenized_body=['is', 'it', 'still', 'rboneappletea', 'worthy', 'if', 'its', 'the', 'opposite']),\n",
       " Row(body=\"I've tried and it's hit and miss. When it's good I feel more rested even though I've not slept well but sometimes it doesn't work\", cleaned_body='ive tried and its hit and miss when its good i feel more rested even though ive not slept well but sometimes it doesnt work', tokenized_body=['ive', 'tried', 'and', 'its', 'hit', 'and', 'miss', 'when', 'its', 'good', 'i', 'feel', 'more', 'rested', 'even', 'though', 'ive', 'not', 'slept', 'well', 'but', 'sometimes', 'it', 'doesnt', 'work']),\n",
       " Row(body=\"Hey that's great, I mean it. \\n\\nIn the other progress pic comment section there was a Redditor who talked about posting his own progress pic six months ago and mentioned he'd already put it back on and was dieting again.\\n\\nI'm not saying this to be an asshole, but the reality is that the vast majority of people who get healthy end up putting the weight back on. Do some research and find out what a healthy relationship with food looks like (if you haven't already). \\n\\nAs good as you feel now (and you've earned it), you'll feel equally as depressed if you wind up taking another ride on the rolly-polly-coaster. \\n\\nFind some healthy recipes, pick up an active hobby, maybe grow your own veggie garden and you'll find out junk food doesn't actually taste all that good. And give yourself a break once in a while, you're doing alright.\", cleaned_body='hey thats great i mean it \\n\\nin the other progress pic comment section there was a redditor who talked about posting his own progress pic six months ago and mentioned hed already put it back on and was dieting again\\n\\nim not saying this to be an asshole but the reality is that the vast majority of people who get healthy end up putting the weight back on do some research and find out what a healthy relationship with food looks like if you havent already \\n\\nas good as you feel now and youve earned it youll feel equally as depressed if you wind up taking another ride on the rollypollycoaster \\n\\nfind some healthy recipes pick up an active hobby maybe grow your own veggie garden and youll find out junk food doesnt actually taste all that good and give yourself a break once in a while youre doing alright', tokenized_body=['hey', 'thats', 'great', 'i', 'mean', 'it', '', '', 'in', 'the', 'other', 'progress', 'pic', 'comment', 'section', 'there', 'was', 'a', 'redditor', 'who', 'talked', 'about', 'posting', 'his', 'own', 'progress', 'pic', 'six', 'months', 'ago', 'and', 'mentioned', 'hed', 'already', 'put', 'it', 'back', 'on', 'and', 'was', 'dieting', 'again', '', 'im', 'not', 'saying', 'this', 'to', 'be', 'an', 'asshole', 'but', 'the', 'reality', 'is', 'that', 'the', 'vast', 'majority', 'of', 'people', 'who', 'get', 'healthy', 'end', 'up', 'putting', 'the', 'weight', 'back', 'on', 'do', 'some', 'research', 'and', 'find', 'out', 'what', 'a', 'healthy', 'relationship', 'with', 'food', 'looks', 'like', 'if', 'you', 'havent', 'already', '', '', 'as', 'good', 'as', 'you', 'feel', 'now', 'and', 'youve', 'earned', 'it', 'youll', 'feel', 'equally', 'as', 'depressed', 'if', 'you', 'wind', 'up', 'taking', 'another', 'ride', 'on', 'the', 'rollypollycoaster', '', '', 'find', 'some', 'healthy', 'recipes', 'pick', 'up', 'an', 'active', 'hobby', 'maybe', 'grow', 'your', 'own', 'veggie', 'garden', 'and', 'youll', 'find', 'out', 'junk', 'food', 'doesnt', 'actually', 'taste', 'all', 'that', 'good', 'and', 'give', 'yourself', 'a', 'break', 'once', 'in', 'a', 'while', 'youre', 'doing', 'alright']),\n",
       " Row(body='once a guy pulled a gun on me and i ran like 300m really fast but then i stopped so i think it would help you like in a 100m sprint but not more than 300m for sure because you would run out of energy ', cleaned_body='once a guy pulled a gun on me and i ran like 300m really fast but then i stopped so i think it would help you like in a 100m sprint but not more than 300m for sure because you would run out of energy ', tokenized_body=['once', 'a', 'guy', 'pulled', 'a', 'gun', 'on', 'me', 'and', 'i', 'ran', 'like', '300m', 'really', 'fast', 'but', 'then', 'i', 'stopped', 'so', 'i', 'think', 'it', 'would', 'help', 'you', 'like', 'in', 'a', '100m', 'sprint', 'but', 'not', 'more', 'than', '300m', 'for', 'sure', 'because', 'you', 'would', 'run', 'out', 'of', 'energy']),\n",
       " Row(body='[removed]', cleaned_body='removed', tokenized_body=['removed'])]"
      ]
     },
     "execution_count": 9,
     "metadata": {},
     "output_type": "execute_result"
    }
   ],
   "source": [
    "# Import some functions needed for tokenizing and removing stop words\n",
    "from pyspark.ml.feature import StopWordsRemover, Tokenizer\n",
    "\n",
    "# First, tokenize text (convert it to array of words)\n",
    "reddit_tokenizer = Tokenizer(inputCol='cleaned_body', outputCol='tokenized_body')\n",
    "reddit_comments_data_DF = reddit_tokenizer.transform(reddit_comments_data_DF)\n",
    "\n",
    "# Compare columns to make sure function worked!\n",
    "reddit_comments_data_DF.select(\"body\", \"cleaned_body\", \"tokenized_body\").take(5)"
   ]
  },
  {
   "cell_type": "markdown",
   "metadata": {},
   "source": [
    "Next, let's remove some common stop words (such as \"the\", \"and\", and so on).\n"
   ]
  },
  {
   "cell_type": "code",
   "execution_count": 10,
   "metadata": {},
   "outputs": [
    {
     "data": {
      "text/plain": [
       "[Row(tokenized_body=['is', 'it', 'still', 'rboneappletea', 'worthy', 'if', 'its', 'the', 'opposite'], body_SW_removed=['still', 'rboneappletea', 'worthy', 'opposite']),\n",
       " Row(tokenized_body=['ive', 'tried', 'and', 'its', 'hit', 'and', 'miss', 'when', 'its', 'good', 'i', 'feel', 'more', 'rested', 'even', 'though', 'ive', 'not', 'slept', 'well', 'but', 'sometimes', 'it', 'doesnt', 'work'], body_SW_removed=['ive', 'tried', 'hit', 'miss', 'good', 'feel', 'rested', 'even', 'though', 'ive', 'slept', 'well', 'sometimes', 'doesnt', 'work']),\n",
       " Row(tokenized_body=['hey', 'thats', 'great', 'i', 'mean', 'it', '', '', 'in', 'the', 'other', 'progress', 'pic', 'comment', 'section', 'there', 'was', 'a', 'redditor', 'who', 'talked', 'about', 'posting', 'his', 'own', 'progress', 'pic', 'six', 'months', 'ago', 'and', 'mentioned', 'hed', 'already', 'put', 'it', 'back', 'on', 'and', 'was', 'dieting', 'again', '', 'im', 'not', 'saying', 'this', 'to', 'be', 'an', 'asshole', 'but', 'the', 'reality', 'is', 'that', 'the', 'vast', 'majority', 'of', 'people', 'who', 'get', 'healthy', 'end', 'up', 'putting', 'the', 'weight', 'back', 'on', 'do', 'some', 'research', 'and', 'find', 'out', 'what', 'a', 'healthy', 'relationship', 'with', 'food', 'looks', 'like', 'if', 'you', 'havent', 'already', '', '', 'as', 'good', 'as', 'you', 'feel', 'now', 'and', 'youve', 'earned', 'it', 'youll', 'feel', 'equally', 'as', 'depressed', 'if', 'you', 'wind', 'up', 'taking', 'another', 'ride', 'on', 'the', 'rollypollycoaster', '', '', 'find', 'some', 'healthy', 'recipes', 'pick', 'up', 'an', 'active', 'hobby', 'maybe', 'grow', 'your', 'own', 'veggie', 'garden', 'and', 'youll', 'find', 'out', 'junk', 'food', 'doesnt', 'actually', 'taste', 'all', 'that', 'good', 'and', 'give', 'yourself', 'a', 'break', 'once', 'in', 'a', 'while', 'youre', 'doing', 'alright'], body_SW_removed=['hey', 'thats', 'great', 'mean', '', '', 'progress', 'pic', 'comment', 'section', 'redditor', 'talked', 'posting', 'progress', 'pic', 'six', 'months', 'ago', 'mentioned', 'hed', 'already', 'put', 'back', 'dieting', '', 'im', 'saying', 'asshole', 'reality', 'vast', 'majority', 'people', 'get', 'healthy', 'end', 'putting', 'weight', 'back', 'research', 'find', 'healthy', 'relationship', 'food', 'looks', 'like', 'havent', 'already', '', '', 'good', 'feel', 'youve', 'earned', 'youll', 'feel', 'equally', 'depressed', 'wind', 'taking', 'another', 'ride', 'rollypollycoaster', '', '', 'find', 'healthy', 'recipes', 'pick', 'active', 'hobby', 'maybe', 'grow', 'veggie', 'garden', 'youll', 'find', 'junk', 'food', 'doesnt', 'actually', 'taste', 'good', 'give', 'break', 'youre', 'alright']),\n",
       " Row(tokenized_body=['once', 'a', 'guy', 'pulled', 'a', 'gun', 'on', 'me', 'and', 'i', 'ran', 'like', '300m', 'really', 'fast', 'but', 'then', 'i', 'stopped', 'so', 'i', 'think', 'it', 'would', 'help', 'you', 'like', 'in', 'a', '100m', 'sprint', 'but', 'not', 'more', 'than', '300m', 'for', 'sure', 'because', 'you', 'would', 'run', 'out', 'of', 'energy'], body_SW_removed=['guy', 'pulled', 'gun', 'ran', 'like', '300m', 'really', 'fast', 'stopped', 'think', 'help', 'like', '100m', 'sprint', '300m', 'sure', 'run', 'energy']),\n",
       " Row(tokenized_body=['removed'], body_SW_removed=['removed'])]"
      ]
     },
     "execution_count": 10,
     "metadata": {},
     "output_type": "execute_result"
    }
   ],
   "source": [
    "# Apply stop words remover to remove stop words from our text\n",
    "SW_remover = StopWordsRemover(inputCol='tokenized_body', outputCol='body_SW_removed')\n",
    "reddit_comments_data_DF = SW_remover.transform(reddit_comments_data_DF)\n",
    "\n",
    "# Compare columns to make sure function worked!\n",
    "reddit_comments_data_DF.select(\"tokenized_body\", \"body_SW_removed\").take(5)"
   ]
  },
  {
   "cell_type": "markdown",
   "metadata": {},
   "source": [
    "Next, we want to identify and remove comments that are not in English. We use the `nltk` package which has a list of over 200,000 words that compose the English corpus. We can then identify and remove words that are not in this corpus."
   ]
  },
  {
   "cell_type": "code",
   "execution_count": 11,
   "metadata": {},
   "outputs": [
    {
     "name": "stdout",
     "output_type": "stream",
     "text": [
      "Number of words in English corpus is  235892\n"
     ]
    },
    {
     "name": "stderr",
     "output_type": "stream",
     "text": [
      "[nltk_data] Downloading package words to /home/hadoop/nltk_data...\n",
      "[nltk_data]   Package words is already up-to-date!\n"
     ]
    }
   ],
   "source": [
    "# Download the English corpus and look at the number of words in the corpus\n",
    "import nltk\n",
    "nltk.download('words')\n",
    "English_words = set(nltk.corpus.words.words())\n",
    "print(\"Number of words in English corpus is \", len(English_words))"
   ]
  },
  {
   "cell_type": "code",
   "execution_count": 12,
   "metadata": {},
   "outputs": [
    {
     "data": {
      "text/plain": [
       "[Row(body=\"Is it still r/BoneAppleTea worthy if it's the opposite?\", final_cleaned_body=['still', 'worthy', 'opposite']),\n",
       " Row(body=\"I've tried and it's hit and miss. When it's good I feel more rested even though I've not slept well but sometimes it doesn't work\", final_cleaned_body=['tried', 'hit', 'miss', 'good', 'feel', 'even', 'though', 'slept', 'well', 'sometimes', 'doesnt', 'work']),\n",
       " Row(body=\"Hey that's great, I mean it. \\n\\nIn the other progress pic comment section there was a Redditor who talked about posting his own progress pic six months ago and mentioned he'd already put it back on and was dieting again.\\n\\nI'm not saying this to be an asshole, but the reality is that the vast majority of people who get healthy end up putting the weight back on. Do some research and find out what a healthy relationship with food looks like (if you haven't already). \\n\\nAs good as you feel now (and you've earned it), you'll feel equally as depressed if you wind up taking another ride on the rolly-polly-coaster. \\n\\nFind some healthy recipes, pick up an active hobby, maybe grow your own veggie garden and you'll find out junk food doesn't actually taste all that good. And give yourself a break once in a while, you're doing alright.\", final_cleaned_body=['hey', 'thats', 'great', 'mean', 'progress', 'pic', 'comment', 'section', 'posting', 'progress', 'pic', 'six', 'ago', 'already', 'put', 'back', 'saying', 'reality', 'vast', 'majority', 'people', 'get', 'healthy', 'end', 'weight', 'back', 'research', 'find', 'healthy', 'relationship', 'food', 'like', 'havent', 'already', 'good', 'feel', 'youve', 'feel', 'equally', 'depressed', 'wind', 'taking', 'another', 'ride', 'find', 'healthy', 'pick', 'active', 'hobby', 'maybe', 'grow', 'garden', 'find', 'junk', 'food', 'doesnt', 'actually', 'taste', 'good', 'give', 'break', 'alright']),\n",
       " Row(body='once a guy pulled a gun on me and i ran like 300m really fast but then i stopped so i think it would help you like in a 100m sprint but not more than 300m for sure because you would run out of energy ', final_cleaned_body=['guy', 'gun', 'ran', 'like', 'really', 'fast', 'stopped', 'think', 'help', 'like', 'sprint', 'sure', 'run', 'energy']),\n",
       " Row(body='[removed]', final_cleaned_body=['removed'])]"
      ]
     },
     "execution_count": 12,
     "metadata": {},
     "output_type": "execute_result"
    }
   ],
   "source": [
    "# Define a function to remove words not in English corpus\n",
    "# This function assumes the input is a list of strings\n",
    "def remove_non_English_words(list_of_strings):\n",
    "    # Create a new blank list\n",
    "    new_list = []\n",
    "    # Loop over each string and if the word is in the English corpus, add it to the new list\n",
    "    for word in list_of_strings:\n",
    "        if word in English_words:\n",
    "            new_list.append(word)\n",
    "\n",
    "    return new_list\n",
    "\n",
    "# Specify above function as a UDF \n",
    "udf_remove_non_English = udf(remove_non_English_words, ArrayType(StringType()))\n",
    "# Apply this function to \"body\" column\n",
    "reddit_comments_data_DF = reddit_comments_data_DF.withColumn(\"final_cleaned_body\", udf_remove_non_English(\"body_SW_removed\"))\n",
    "\n",
    "# Compare pre-cleaning and final cleaned text columns to make sure everything has worked!\n",
    "reddit_comments_data_DF.select(\"body\", \"final_cleaned_body\").take(5)\n"
   ]
  },
  {
   "cell_type": "markdown",
   "metadata": {},
   "source": [
    "We can see that we have successfully removed non-English words, including some URLs and some words that appear to be French. Next, we want to calculate the number of words in each post (excluding words that we've removed, so that we are calculating the  number of \"meaningful\" words). There are two reasons for this. One is that we probably want to remove very short posts, which are not likely to have any meaningful content. Another is that the length of each post may be an interesting variable in its own right that we want to use for future analysis."
   ]
  },
  {
   "cell_type": "code",
   "execution_count": 13,
   "metadata": {},
   "outputs": [
    {
     "data": {
      "text/plain": [
       "[Row(final_cleaned_body=['still', 'worthy', 'opposite'], post_number_of_words=3),\n",
       " Row(final_cleaned_body=['tried', 'hit', 'miss', 'good', 'feel', 'even', 'though', 'slept', 'well', 'sometimes', 'doesnt', 'work'], post_number_of_words=12),\n",
       " Row(final_cleaned_body=['hey', 'thats', 'great', 'mean', 'progress', 'pic', 'comment', 'section', 'posting', 'progress', 'pic', 'six', 'ago', 'already', 'put', 'back', 'saying', 'reality', 'vast', 'majority', 'people', 'get', 'healthy', 'end', 'weight', 'back', 'research', 'find', 'healthy', 'relationship', 'food', 'like', 'havent', 'already', 'good', 'feel', 'youve', 'feel', 'equally', 'depressed', 'wind', 'taking', 'another', 'ride', 'find', 'healthy', 'pick', 'active', 'hobby', 'maybe', 'grow', 'garden', 'find', 'junk', 'food', 'doesnt', 'actually', 'taste', 'good', 'give', 'break', 'alright'], post_number_of_words=62),\n",
       " Row(final_cleaned_body=['guy', 'gun', 'ran', 'like', 'really', 'fast', 'stopped', 'think', 'help', 'like', 'sprint', 'sure', 'run', 'energy'], post_number_of_words=14),\n",
       " Row(final_cleaned_body=['removed'], post_number_of_words=1),\n",
       " Row(final_cleaned_body=['lot', 'memory', 'many', 'barely', 'run', 'give', 'time', 'also', 'rather', 'fixed', 'optimization'], post_number_of_words=11),\n",
       " Row(final_cleaned_body=['calm', 'thats', 'said', 'get', 'angry', 'something'], post_number_of_words=6),\n",
       " Row(final_cleaned_body=[], post_number_of_words=0),\n",
       " Row(final_cleaned_body=['lie', 'never', 'actually', 'measured', 'get', 'work', 'live', 'stick', 'tongue', 'according', 'check', 'picture', 'see', 'keep', 'long', 'tongue'], post_number_of_words=16),\n",
       " Row(final_cleaned_body=['agreed', 'stop', 'whole', 'thing'], post_number_of_words=4)]"
      ]
     },
     "execution_count": 13,
     "metadata": {},
     "output_type": "execute_result"
    }
   ],
   "source": [
    "# Define a function to return the length of a list, i.e. the number of words in the post\n",
    "# Using LongType instead of IntegerType because it is easier to work with filtering later on\n",
    "calc_num_of_words = udf(lambda given_list: len(given_list), LongType())\n",
    "# Apply this function to produce a new column with number of words in each post\n",
    "reddit_comments_data_DF = reddit_comments_data_DF.withColumn(\"post_number_of_words\", calc_num_of_words(\"final_cleaned_body\")) \n",
    "# Check that this worked\n",
    "reddit_comments_data_DF.select(\"final_cleaned_body\", \"post_number_of_words\").take(10)"
   ]
  },
  {
   "cell_type": "markdown",
   "metadata": {},
   "source": [
    "From the above text, we can see that posts with a very small number of words don't seem to convey any meaningful information. As a good rule, it seems that posts with at least around 10 words seem to have meaningful information. The exact number is somewhat arbitrary, but from a visual inspection it does appear that comments with below about 10 words generally don't seem to convey a meaningful sentence or \"story\". Let's filter the dataset to only contain posts with at least 10 words, and then look at the number of rows remaining."
   ]
  },
  {
   "cell_type": "code",
   "execution_count": 14,
   "metadata": {},
   "outputs": [
    {
     "name": "stdout",
     "output_type": "stream",
     "text": [
      "+-------+--------------------+\n",
      "|summary|post_number_of_words|\n",
      "+-------+--------------------+\n",
      "|  count|           139657973|\n",
      "|   mean|  26.360449625027854|\n",
      "| stddev|  27.976356594019126|\n",
      "|    min|                  10|\n",
      "|    max|                4786|\n",
      "+-------+--------------------+\n",
      "\n"
     ]
    }
   ],
   "source": [
    "# Keep only rows corresponding to posts with at least 10 words\n",
    "reddit_comments_data_DF_cleaned = reddit_comments_data_DF.filter(\"post_number_of_words > 9\")\n",
    "# Look at summary statistics and number of rows remaining\n",
    "reddit_comments_data_DF_cleaned.select('post_number_of_words').describe().show()"
   ]
  },
  {
   "cell_type": "markdown",
   "metadata": {},
   "source": [
    "We can see that by only keeping rows with at least 10 meaningful words, we have 139,657,973 rows remaining, meaning that we have removed approximately 70.7 percent of our data. \n",
    "\n",
    "## Looking at and Cleaning Other Columns\n",
    "\n",
    "Before we move to more aggregate exploratory data analysis, let's turn to some of the other columns. First, as noted above most of the columns appear to contain information that is generally irrelevant, such as ID numbers and so forth. Thus, below we keep only the following columns that appear to contain potentially useful information: the original body text (\"body\"), the cleaned body text (\"final_cleaned_body\"), the number of words in the cleaned body (\"post_number_of_words\"), whether a post is controversial (\"controversiality\" - according to Reddit, a controversial post is one that appears to have a high number of both upvotes and downvotes), the time of the post (\"created_utc\"), the score (\"score\"), and the subreddit name (\"subreddit\"). \n",
    "\n",
    "Once we select only these columns, we write this back to a Parquet file and read it back in, which makes some subsequent operations much easier."
   ]
  },
  {
   "cell_type": "code",
   "execution_count": 15,
   "metadata": {},
   "outputs": [
    {
     "data": {
      "text/plain": [
       "[Row(body='Your post was removed from /r/iamverysmart because it contains information that could be used to identify the user. Please refer to Rule 1 for further information.\\n\\nIf you believe your post was removed by error, please message the moderators.', final_cleaned_body=['post', 'removed', 'information', 'used', 'identify', 'user', 'please', 'refer', 'rule', 'information', 'believe', 'post', 'removed', 'error', 'please', 'message'], post_number_of_words=16, controversiality=0, created_utc=1540410116, score=1, subreddit='iamverysmart'),\n",
       " Row(body='* Username: /u/rabbitfire102\\n* Join date: 2017-01-22 11:22:48\\n* Link karma: 525\\n* Comment karma: 167\\n* Reputation: 362 trade(s)\\n* Heatware: [http://www.heatware.com/u/109733](http://www.heatware.com/u/109733)\\n\\n^^This ^^information ^^does ^^not ^^guarantee ^^a ^^successful ^^swap. ^^It ^^is ^^being ^^provided ^^to ^^help ^^potential ^^trade ^^partners ^^have ^^more ^^immediate ^^background ^^information ^^about ^^with ^^whom ^^they ^^are ^^swapping. ^^Please ^^be ^^sure ^^to ^^familiarize ^^yourself ^^with ^^the ^^[RULES](https://www.reddit.com/r/mechmarket/wiki/rules/rules) ^^and ^^other ^^guides ^^on ^^the ^^[WIKI](https://www.reddit.com/r/mechmarket/wiki/index)', final_cleaned_body=['join', 'date', 'link', 'karma', 'comment', 'karma', 'reputation', 'information', 'guarantee', 'successful', 'swap', 'provided', 'help', 'potential', 'trade', 'immediate', 'background', 'information', 'swapping', 'please', 'sure', 'familiarize'], post_number_of_words=22, controversiality=0, created_utc=1540410116, score=1, subreddit='mechmarket'),\n",
       " Row(body='Whether PT will work or not is really up to the cause of your v pain. If it is from tight muscles or a pinched/damaged nerve, then yes, it probably will help.. just be sure to give it plenty of time! It helped me quite a bit, but I just had to be consistent for a couple of months. I now do all the exercises at home.. my PT also showed me how to use dilators and a wand for internal trigger point relief which has helped a ton during a flare.\\n\\nAs far as the yoga poses, I would be happy to help or give some advice if you want to PM me. I teach yoga and could give you some tips on options to help with your pelvic floor. Good luck!! 💓', final_cleaned_body=['whether', 'work', 'really', 'cause', 'v', 'pain', 'tight', 'nerve', 'yes', 'probably', 'help', 'sure', 'give', 'plenty', 'time', 'quite', 'bit', 'consistent', 'couple', 'home', 'also', 'use', 'wand', 'internal', 'trigger', 'point', 'relief', 'ton', 'flare', 'far', 'yoga', 'happy', 'help', 'give', 'advice', 'want', 'teach', 'yoga', 'give', 'help', 'pelvic', 'floor', 'good', 'luck'], post_number_of_words=44, controversiality=0, created_utc=1540410116, score=1, subreddit='vulvodynia'),\n",
       " Row(body=\"Personally, I never hated it.  But if we're looking at the lesser of two evils, then this is definitely it.  Warforge/Titanforging has been a cancer to WoW, and it has only gotten worse every expansion.  \", final_cleaned_body=['personally', 'never', 'looking', 'lesser', 'two', 'definitely', 'cancer', 'wow', 'gotten', 'worse', 'every', 'expansion'], post_number_of_words=12, controversiality=0, created_utc=1540410116, score=1, subreddit='wow'),\n",
       " Row(body=\"This is also not OPs image, nor is it the first time I've seen it here. \\n\\nI wish there was a way to reverse image search a subreddit. I'd bet money that a previous post had the same caption.\", final_cleaned_body=['also', 'image', 'first', 'time', 'seen', 'wish', 'way', 'reverse', 'image', 'search', 'id', 'bet', 'money', 'previous', 'post', 'caption'], post_number_of_words=16, controversiality=0, created_utc=1540410116, score=29, subreddit='gaming')]"
      ]
     },
     "execution_count": 15,
     "metadata": {},
     "output_type": "execute_result"
    }
   ],
   "source": [
    "# Keep only the columns we need, as specified above\n",
    "reddit_comments_data_DF_cleaned = reddit_comments_data_DF_cleaned.select(\"body\", \"final_cleaned_body\", \"post_number_of_words\", \n",
    "                                                                        \"controversiality\", \"created_utc\", \"score\", \"subreddit\")\n",
    "\n",
    "# Write this file to Parquet and then read it back in - this makes much of the subsequent cleaning we do run much \n",
    "# faster as the Parquet file type is column-based \n",
    "reddit_comments_data_DF_cleaned.write.parquet(\"s3://ericlarosefinalprojectbucket/reddit_comments_data_DF_not_fully_cleaned.parquet\",mode=\"overwrite\")\n",
    "# Read file back in\n",
    "reddit_comments_data_DF_cleaned = spark.read.parquet(\"s3://ericlarosefinalprojectbucket/reddit_comments_data_DF_not_fully_cleaned.parquet\")\n",
    "\n",
    "# Look at first 5 rows of this dataframe\n",
    "reddit_comments_data_DF_cleaned.take(5)"
   ]
  },
  {
   "cell_type": "markdown",
   "metadata": {},
   "source": [
    "This seems to be a much easier dataset to work with than what we had initially. Next, let's look at summary statistics of our quantitative variables - \"post_number_of_words,\" \"score\", and \"controversiality\". (The last of those variables is technically a qualitative dummy variable but it is still useful to look at summary statistics of this variable.)"
   ]
  },
  {
   "cell_type": "code",
   "execution_count": 16,
   "metadata": {},
   "outputs": [
    {
     "name": "stdout",
     "output_type": "stream",
     "text": [
      "+-------+--------------------+------------------+-------------------+\n",
      "|summary|post_number_of_words|             score|   controversiality|\n",
      "+-------+--------------------+------------------+-------------------+\n",
      "|  count|           139657973|         139657973|          139657973|\n",
      "|   mean|  26.360449625027854|10.171745296632652|0.02657823910991462|\n",
      "| stddev|  27.976356594019084| 169.2174968114663|0.16084724586073035|\n",
      "|    min|                  10|            -22280|                  0|\n",
      "|    max|                4786|             90192|                  1|\n",
      "+-------+--------------------+------------------+-------------------+\n",
      "\n"
     ]
    }
   ],
   "source": [
    "# Describe numeric columns (controversiality is technically a qualitative dummy variable)\n",
    "reddit_comments_data_DF_cleaned.select(\"post_number_of_words\", \"score\", \"controversiality\").describe().show()"
   ]
  },
  {
   "cell_type": "markdown",
   "metadata": {},
   "source": [
    "From the output above, we can see that there do not appear to be any missing values of these three variables. \"controversiality\" is a (qualitative) dummy variable equal to 1 if a post is controversial, 0 otherwise. The mean indicates that only about 2.66% of posts are flagged as \"controversial\". The minimum and maximum values of \"post_number_of_words\" and \"score\" show that these variables are likely to be highly right-tail skewed, but we will look at this in more detail later. Note that you can indeed have a negative score on a Reddit post, so negative values are not \"wrong\" or incorrect values."
   ]
  },
  {
   "cell_type": "markdown",
   "metadata": {},
   "source": [
    "Before doing further analysis of quantitative variables, it is obvious that our \"created_utc\" variable, which indicates the time of the post, needs to be converted to an actual time that is understandable by humans. In theory this should contain the year, month, day, hour, minute, and so on of the post. In practice we are probably not going to be interested in any analysis of the day, hour, or minute, because there are so many possible values. At the same time, from the project instructions we know that all the data is only from two possible years, so we probably won't be interested in the year. What we are going to be most interested in is the month of the post. A month is a long-enough time horizon for news cycles or other trends to play out, and there are enough months (4) in our dataset to potentially see some interesting variation. Below, let's extract the month of the data."
   ]
  },
  {
   "cell_type": "code",
   "execution_count": 17,
   "metadata": {},
   "outputs": [
    {
     "name": "stdout",
     "output_type": "stream",
     "text": [
      "+-----------+-----+\n",
      "|created_utc|month|\n",
      "+-----------+-----+\n",
      "| 1541029463|   10|\n",
      "| 1541029463|   10|\n",
      "| 1541029463|   10|\n",
      "| 1541029463|   10|\n",
      "| 1541029463|   10|\n",
      "| 1541029463|   10|\n",
      "| 1541029463|   10|\n",
      "| 1541029463|   10|\n",
      "| 1541029463|   10|\n",
      "| 1541029463|   10|\n",
      "| 1541029464|   10|\n",
      "| 1541029464|   10|\n",
      "| 1541029464|   10|\n",
      "| 1541029464|   10|\n",
      "| 1541029464|   10|\n",
      "| 1541029464|   10|\n",
      "| 1541029464|   10|\n",
      "| 1541029464|   10|\n",
      "| 1541029464|   10|\n",
      "| 1541029464|   10|\n",
      "+-----------+-----+\n",
      "only showing top 20 rows\n",
      "\n"
     ]
    }
   ],
   "source": [
    "# This date is in what's known as Unix time, measuring the number of seconds since the start of 1970.\n",
    "# We can use the time package to extract the month and year from this dataset\n",
    "import time\n",
    "# Define a function that extracts the month from each post \n",
    "extract_month = udf(lambda given_Unix_time: time.strftime(\"%m\", time.localtime(int(given_Unix_time))))\n",
    "# Apply this function to produce a new column with month of each post\n",
    "reddit_comments_data_DF_cleaned = reddit_comments_data_DF_cleaned.withColumn(\"month\", extract_month(\"created_utc\").cast(LongType())) \n",
    "\n",
    "# Check that this successfully worked\n",
    "reddit_comments_data_DF_cleaned.select(\"created_utc\", \"month\").show(20)"
   ]
  },
  {
   "cell_type": "markdown",
   "metadata": {},
   "source": [
    "We can see that we have successfully created a month column. Looking back at the dataset, it does not appear that there are any obvious transformations left to be done. Before we look at general patterns in the data and more aggregate EDA, though, let's first look at the distribution of the \"score\" and \"post_number_of_words\" to assess factors like skew or outliers."
   ]
  },
  {
   "cell_type": "code",
   "execution_count": 18,
   "metadata": {},
   "outputs": [
    {
     "name": "stderr",
     "output_type": "stream",
     "text": [
      "/home/hadoop/miniconda/lib/python3.7/site-packages/pyarrow/util.py:43: FutureWarning: pyarrow.open_stream is deprecated as of 0.17.0, please use pyarrow.ipc.open_stream instead.\n",
      "  warnings.warn(msg, FutureWarning)\n"
     ]
    },
    {
     "name": "stdout",
     "output_type": "stream",
     "text": [
      "       score     count\n",
      "5526       1  50335383\n",
      "10265      2  24270457\n",
      "8541       3  13323596\n",
      "11237      4   5801185\n",
      "5455       5   5443188\n",
      "367        0   4831082\n",
      "3607       6   4062030\n",
      "860        7   3105198\n",
      "9273       8   2456188\n",
      "3935       9   1989265\n",
      "Number of comments with negative scores:\n",
      "5715217\n",
      "Number of comments with scores between -100 and 100, inclusive:\n",
      "138177713\n",
      "Summary statistics of score variable\n",
      "+-------+------------------+\n",
      "|summary|             score|\n",
      "+-------+------------------+\n",
      "|  count|         139657973|\n",
      "|   mean|10.171745296632652|\n",
      "| stddev|169.21749681146628|\n",
      "|    min|            -22280|\n",
      "|    25%|                 1|\n",
      "|    50%|                 2|\n",
      "|    75%|                 5|\n",
      "|    max|             90192|\n",
      "+-------+------------------+\n",
      "\n",
      "None\n"
     ]
    }
   ],
   "source": [
    "# Look at summary statistics of scores by first getting the number of comments with each score\n",
    "hist_of_scores = reddit_comments_data_DF_cleaned.groupBy('score').count().toPandas()\n",
    "# Look at most frequent counts\n",
    "print(hist_of_scores.sort_values('count', ascending = False).head(10))\n",
    "# Look at the number of comments with negative scores\n",
    "print(\"Number of comments with negative scores:\")\n",
    "print(hist_of_scores[hist_of_scores['score'] < 0]['count'].sum())\n",
    "# Look at the number of comments with scores between -100 and 100\n",
    "print(\"Number of comments with scores between -100 and 100, inclusive:\")\n",
    "print(hist_of_scores[(hist_of_scores['score'] <= 100) & (hist_of_scores['score'] >= -100)]['count'].sum())\n",
    "\n",
    "# Additionally, summarize the score variable in the original cleaned document\n",
    "print(\"Summary statistics of score variable\")\n",
    "print(reddit_comments_data_DF_cleaned.select('score').summary().show())"
   ]
  },
  {
   "cell_type": "markdown",
   "metadata": {},
   "source": [
    "We can see that the most frequently occurring scores tend to be the lowest positive values, which is what we would probably expect. The table of summary statistics indicates that scores tend to be highly right-tail skewed, since the average of roughly 10.17 is far greater than the median of 2. The table also shows that at least three-quarters of comments have scores of 5 or less. On the other hand, only about 4 percent of comments seem to have negative scrores. At the same time, there are definitely extreme outliers, including at least one comment with a score of over 90,000. In many instances, you would simply want to log a variable that is right-tail skewed to make it resemble a more normal distribution. However, comments can have negative scores which makes that impossible in this case without removing or otherwise adjusting negative scores. It is highly likely, however, that comments with negative scores differ in important ways from comments with postive scores (they may have more words with negative connotations, for instance), so we do not simply want to remove them even though the above output shows that less than 5% of comments have negative scores. One way to eliminate the skew is to keep only numbers within a certain range. As an arbitrary value, let's consider comments that have a score between -100 and 100, inclusive. Let's look at the distribution when we only keep scores in this range."
   ]
  },
  {
   "cell_type": "code",
   "execution_count": 19,
   "metadata": {},
   "outputs": [
    {
     "name": "stdout",
     "output_type": "stream",
     "text": [
      "+-------+------------------+\n",
      "|summary|             score|\n",
      "+-------+------------------+\n",
      "|  count|         138177713|\n",
      "|   mean| 4.763946889177418|\n",
      "| stddev|10.347059027073419|\n",
      "|    min|              -100|\n",
      "|    25%|                 1|\n",
      "|    50%|                 2|\n",
      "|    75%|                 4|\n",
      "|    max|               100|\n",
      "+-------+------------------+\n",
      "\n",
      "None\n"
     ]
    }
   ],
   "source": [
    "# Look at summary statistics of comments with scores between -100 and 100\n",
    "print(reddit_comments_data_DF_cleaned.filter((reddit_comments_data_DF_cleaned.score >= -100) & (reddit_comments_data_DF_cleaned.score <= 100)).select('score').summary().show())\n"
   ]
  },
  {
   "cell_type": "markdown",
   "metadata": {},
   "source": [
    "We can see that the skew appears to be largely eliminated as the median is a lot closer to the mean and the mean is now only slightly above the 75th percentile. Additionally, since we have capped the score value at 100 we have guaranteed that there are no extreme outliers. Furthermore, by looking at the counts we can see that we have still retained over 98 percent of all observations. Thus, in the full dataset let's remove comments with a score outside of the range $[-100, 100]$, which we can see before still retains over 98% of all values. "
   ]
  },
  {
   "cell_type": "code",
   "execution_count": 20,
   "metadata": {},
   "outputs": [],
   "source": [
    "# From the full dataset of comments, remove rows with scores outside the range [-100, 100]\n",
    "reddit_comments_data_DF_cleaned = reddit_comments_data_DF_cleaned.filter(\"score >= -100 and score <= 100\")\n"
   ]
  },
  {
   "cell_type": "markdown",
   "metadata": {},
   "source": [
    "Next, let's turn to the \"post_number_of_words\" variable, which indicates the number of words in the comment (calculated AFTER removing stop words, punctuation, non-English words, etc.). We repeat the same process to look at summary statistics of this variable below. Also, remember that we have already left-truncated this variable to only include comments with at least ten words."
   ]
  },
  {
   "cell_type": "code",
   "execution_count": 21,
   "metadata": {},
   "outputs": [
    {
     "name": "stderr",
     "output_type": "stream",
     "text": [
      "/home/hadoop/miniconda/lib/python3.7/site-packages/pyarrow/util.py:43: FutureWarning: pyarrow.open_stream is deprecated as of 0.17.0, please use pyarrow.ipc.open_stream instead.\n",
      "  warnings.warn(msg, FutureWarning)\n"
     ]
    },
    {
     "name": "stdout",
     "output_type": "stream",
     "text": [
      "Most frequent word counts:\n",
      "      post_number_of_words     count\n",
      "453                     10  12446654\n",
      "718                     11  10863823\n",
      "662                     12   9502640\n",
      "854                     13   8372791\n",
      "905                     14   7453984\n",
      "961                     15   6969148\n",
      "1125                    16   5987082\n",
      "334                     17   5429268\n",
      "886                     18   4867768\n",
      "22                      19   4387957\n",
      "Number of comments with fewer than 250 words:\n",
      "137905434\n",
      "Summary statistics of post_number_of_words variable\n",
      "+-------+--------------------+\n",
      "|summary|post_number_of_words|\n",
      "+-------+--------------------+\n",
      "|  count|           138177713|\n",
      "|   mean|  26.364043715211874|\n",
      "| stddev|  27.944210495108695|\n",
      "|    min|                  10|\n",
      "|    25%|                  13|\n",
      "|    50%|                  18|\n",
      "|    75%|                  29|\n",
      "|    max|                4786|\n",
      "+-------+--------------------+\n",
      "\n",
      "None\n"
     ]
    }
   ],
   "source": [
    "# Look at summary statistics of word counts\n",
    "hist_of_word_counts = reddit_comments_data_DF_cleaned.groupBy('post_number_of_words').count().toPandas()\n",
    "# Look at most frequent counts\n",
    "print(\"Most frequent word counts:\")\n",
    "print(hist_of_word_counts.sort_values('count', ascending = False).head(10))\n",
    "# Look at the number of comments with fewer than 250 words\n",
    "print(\"Number of comments with fewer than 250 words:\")\n",
    "print(hist_of_word_counts[hist_of_word_counts['post_number_of_words'] <= 250]['count'].sum())\n",
    "\n",
    "# Additionally, summarize the word count variable in the original cleaned document\n",
    "print(\"Summary statistics of post_number_of_words variable\")\n",
    "print(reddit_comments_data_DF_cleaned.select('post_number_of_words').summary().show())"
   ]
  },
  {
   "cell_type": "markdown",
   "metadata": {},
   "source": [
    "We can see that the majority of posts are quite short, with at least 75% of posts being 29 or fewer words. Additionally, the ten most common word counts are exactly the values between 10 and 19, which provides further evidence that most comments are quite short. However, the mean is over 26 words compared to a median of 18, which indicates a right-tail skew, while the maximum of 4,786 indicates that there are some extreme outliers. Let's try investigating what happens when we consider posts with 90 words or fewer (so that the midpoint of our range is 50 words). "
   ]
  },
  {
   "cell_type": "code",
   "execution_count": 22,
   "metadata": {},
   "outputs": [
    {
     "name": "stdout",
     "output_type": "stream",
     "text": [
      "+-------+--------------------+\n",
      "|summary|post_number_of_words|\n",
      "+-------+--------------------+\n",
      "|  count|           134434464|\n",
      "|   mean|  23.054639047022942|\n",
      "| stddev|  15.095583924326265|\n",
      "|    25%|                  13|\n",
      "|    50%|                  18|\n",
      "|    75%|                  28|\n",
      "+-------+--------------------+\n",
      "\n"
     ]
    }
   ],
   "source": [
    "# Look at summary statistics of number of words when we consider posts between 10 and 90 words, inclusive\n",
    "# Note that we only need to include one condition because we have already filtered out posts with fewer than 10 words\n",
    "reddit_comments_data_DF_cleaned.filter(\"post_number_of_words < 91\").select('post_number_of_words').summary(\"count\", \"mean\", \"stddev\", \"25%\", \"50%\", \"75%\").show()\n"
   ]
  },
  {
   "cell_type": "markdown",
   "metadata": {},
   "source": [
    "We can see that limiting posts to 90 words keeps over 95% of observations and the mean length is now much closer to the median length, and well below the 75th percentile. There still appears to be some skew, but much less than before and we have eliminated extreme outliers while retaining the vast majority of observations. Let's formally filter this data."
   ]
  },
  {
   "cell_type": "code",
   "execution_count": 23,
   "metadata": {},
   "outputs": [],
   "source": [
    "# Filter data to only include rows (comments) with between 10 and 90 words, inclusive\n",
    "reddit_comments_data_DF_cleaned = reddit_comments_data_DF_cleaned.filter(\"post_number_of_words < 91\")"
   ]
  },
  {
   "cell_type": "markdown",
   "metadata": {},
   "source": [
    "We note that in our filtered data, there are now 134,434,464 observations remaining. Now that we have cleaned our numerical data, let's do a quick check to make sure there are no missing values in our dataframe. If there are, we need to come up with a way of dealing with missing observations."
   ]
  },
  {
   "cell_type": "code",
   "execution_count": 24,
   "metadata": {},
   "outputs": [
    {
     "name": "stdout",
     "output_type": "stream",
     "text": [
      "+--------------------+----------------+-----------+-----+---------+-----+\n",
      "|post_number_of_words|controversiality|created_utc|score|subreddit|month|\n",
      "+--------------------+----------------+-----------+-----+---------+-----+\n",
      "|                   0|               0|          0|    0|        0|    0|\n",
      "+--------------------+----------------+-----------+-----+---------+-----+\n",
      "\n"
     ]
    }
   ],
   "source": [
    "# Assess for missingness (both null and NaN values) in the dataset (for all variables excluding the string columns)\n",
    "reddit_comments_data_DF_cleaned.select([F.count(F.when(F.col(variable).isNull() | F.isnan(variable), variable)).alias(variable) for variable in reddit_comments_data_DF_cleaned.columns[2:]]).show()\n"
   ]
  },
  {
   "cell_type": "markdown",
   "metadata": {},
   "source": [
    "We can see that there are no missing values. A final method of exploration is to look at the actual words that appear in the text. The chunk of code below calculates the number of times each word appears in the dataset and displays the most frequent words."
   ]
  },
  {
   "cell_type": "code",
   "execution_count": 25,
   "metadata": {},
   "outputs": [
    {
     "name": "stdout",
     "output_type": "stream",
     "text": [
      "20 most common words in the Reddit comments data:\n",
      "+------+--------+\n",
      "|  word|   count|\n",
      "+------+--------+\n",
      "|  like|38125852|\n",
      "|   get|26124383|\n",
      "|   one|24602601|\n",
      "|people|24555883|\n",
      "|  dont|22713948|\n",
      "| think|19764906|\n",
      "|  time|18216909|\n",
      "|really|16311427|\n",
      "|  also|16120497|\n",
      "|  good|15647301|\n",
      "|  even|15541379|\n",
      "|  know|15317737|\n",
      "|  make|14339107|\n",
      "|please|13400434|\n",
      "|  much|13229587|\n",
      "|  want|12660003|\n",
      "|   see|12634616|\n",
      "|   way|11992676|\n",
      "| still|11879438|\n",
      "|  game|11668940|\n",
      "+------+--------+\n",
      "only showing top 20 rows\n",
      "\n",
      "None\n",
      "Total number of unique words in the Reddit comments data:\n"
     ]
    },
    {
     "name": "stderr",
     "output_type": "stream",
     "text": [
      "/home/hadoop/miniconda/lib/python3.7/site-packages/pyarrow/util.py:43: FutureWarning: pyarrow.open_stream is deprecated as of 0.17.0, please use pyarrow.ipc.open_stream instead.\n",
      "  warnings.warn(msg, FutureWarning)\n"
     ]
    },
    {
     "name": "stdout",
     "output_type": "stream",
     "text": [
      "111941\n"
     ]
    }
   ],
   "source": [
    "# Count the number of times each word appears in the data, and then show the most 20 common words\n",
    "print(\"20 most common words in the Reddit comments data:\")\n",
    "print(reddit_comments_data_DF_cleaned.withColumn('word', F.explode(F.col('final_cleaned_body'))).groupBy('word').count().sort('count', ascending=False).show())\n",
    "\n",
    "# Additionally, print the total nubmer of words in the dataset\n",
    "print(\"Total number of unique words in the Reddit comments data:\")\n",
    "print(reddit_comments_data_DF_cleaned.withColumn('word', F.explode(F.col('final_cleaned_body'))).groupBy('word').count().toPandas().shape[0])\n",
    "\n",
    "# Create a Pandas dataframe out of the word counts\n",
    "word_counts = reddit_comments_data_DF_cleaned.withColumn('word', F.explode(F.col('final_cleaned_body'))).groupBy('word').count().sort('count', ascending=False).toPandas()\n"
   ]
  },
  {
   "cell_type": "markdown",
   "metadata": {},
   "source": [
    "We can see that there is a very clear problem here. Namely, the 20 most common words are all very commonly used words, such as \"like\", \"one\", \"really\", and \"also\", that probably have no predictive power in a machine learning algorithm. While we have already removed \"stop words\" and addressed other common issues in text data, it is still difficult to fully remove speech that might be extraneous for our given analysis. Typically in machine learning algorithms with text data, you create a dummy variable equal to 1 if a given word is in a document, and 0 otherwise. In this case, we would clearly want to pick words that are common enough to appear in more than just a handful of documents, but not common enough that they appear in a large share of document. In other words, maximum predictive power should come from words that are \"somewhat\" frequent. \n",
    "\n",
    "Additionally, we can see that there are 111,941 unique words appearing in this data (even after removing stop words!), which is an impractical number of words to include in a machine learning algorithm. To address both of these issues, let's pick a random list of 1,000 words that have a count equal to between 0.25 and 1 percent of the total rows in the data. For reference, the most frequent word \"like\" has a count equal to 25 percent of the total number of comments. Thus, we expect that words words with a count between 0.25 and 1 percent of the total number of comments should be \"somewhat frequent.\""
   ]
  },
  {
   "cell_type": "code",
   "execution_count": 26,
   "metadata": {},
   "outputs": [],
   "source": [
    "# Get num rows in data\n",
    "num_rows_in_data = reddit_comments_data_DF_cleaned.count()\n",
    "\n",
    "# Get a list of possible word choices as those where the total word count is between 0.1 and 1 percent of the total rows in the data\n",
    "possible_word_choices = word_counts[(word_counts['count'] > (0.0025 * num_rows_in_data)) & (word_counts['count'] < (0.01 * num_rows_in_data))]\n",
    "\n",
    "# Randomly select 1000 words from this list, setting seed for reproducibility\n",
    "actual_word_choices = possible_word_choices.sample(n = 1000, axis = 0, random_state = 236)"
   ]
  },
  {
   "cell_type": "code",
   "execution_count": 27,
   "metadata": {},
   "outputs": [
    {
     "data": {
      "text/html": [
       "<div>\n",
       "<style scoped>\n",
       "    .dataframe tbody tr th:only-of-type {\n",
       "        vertical-align: middle;\n",
       "    }\n",
       "\n",
       "    .dataframe tbody tr th {\n",
       "        vertical-align: top;\n",
       "    }\n",
       "\n",
       "    .dataframe thead th {\n",
       "        text-align: right;\n",
       "    }\n",
       "</style>\n",
       "<table border=\"1\" class=\"dataframe\">\n",
       "  <thead>\n",
       "    <tr style=\"text-align: right;\">\n",
       "      <th></th>\n",
       "      <th>word</th>\n",
       "      <th>count</th>\n",
       "    </tr>\n",
       "  </thead>\n",
       "  <tbody>\n",
       "    <tr>\n",
       "      <th>890</th>\n",
       "      <td>learned</td>\n",
       "      <td>655218</td>\n",
       "    </tr>\n",
       "    <tr>\n",
       "      <th>480</th>\n",
       "      <td>simple</td>\n",
       "      <td>1216301</td>\n",
       "    </tr>\n",
       "    <tr>\n",
       "      <th>695</th>\n",
       "      <td>meet</td>\n",
       "      <td>841239</td>\n",
       "    </tr>\n",
       "    <tr>\n",
       "      <th>1514</th>\n",
       "      <td>description</td>\n",
       "      <td>347104</td>\n",
       "    </tr>\n",
       "    <tr>\n",
       "      <th>1097</th>\n",
       "      <td>threshold</td>\n",
       "      <td>513770</td>\n",
       "    </tr>\n",
       "    <tr>\n",
       "      <th>503</th>\n",
       "      <td>health</td>\n",
       "      <td>1169740</td>\n",
       "    </tr>\n",
       "    <tr>\n",
       "      <th>443</th>\n",
       "      <td>giving</td>\n",
       "      <td>1318206</td>\n",
       "    </tr>\n",
       "    <tr>\n",
       "      <th>1017</th>\n",
       "      <td>block</td>\n",
       "      <td>559193</td>\n",
       "    </tr>\n",
       "    <tr>\n",
       "      <th>1517</th>\n",
       "      <td>consistent</td>\n",
       "      <td>346698</td>\n",
       "    </tr>\n",
       "    <tr>\n",
       "      <th>1256</th>\n",
       "      <td>excuse</td>\n",
       "      <td>439235</td>\n",
       "    </tr>\n",
       "    <tr>\n",
       "      <th>785</th>\n",
       "      <td>cover</td>\n",
       "      <td>734091</td>\n",
       "    </tr>\n",
       "    <tr>\n",
       "      <th>448</th>\n",
       "      <td>bring</td>\n",
       "      <td>1303481</td>\n",
       "    </tr>\n",
       "    <tr>\n",
       "      <th>969</th>\n",
       "      <td>active</td>\n",
       "      <td>590941</td>\n",
       "    </tr>\n",
       "    <tr>\n",
       "      <th>966</th>\n",
       "      <td>voice</td>\n",
       "      <td>591843</td>\n",
       "    </tr>\n",
       "    <tr>\n",
       "      <th>466</th>\n",
       "      <td>value</td>\n",
       "      <td>1255103</td>\n",
       "    </tr>\n",
       "    <tr>\n",
       "      <th>1367</th>\n",
       "      <td>connection</td>\n",
       "      <td>390621</td>\n",
       "    </tr>\n",
       "    <tr>\n",
       "      <th>955</th>\n",
       "      <td>court</td>\n",
       "      <td>596922</td>\n",
       "    </tr>\n",
       "    <tr>\n",
       "      <th>577</th>\n",
       "      <td>supposed</td>\n",
       "      <td>1002970</td>\n",
       "    </tr>\n",
       "    <tr>\n",
       "      <th>851</th>\n",
       "      <td>involved</td>\n",
       "      <td>688584</td>\n",
       "    </tr>\n",
       "    <tr>\n",
       "      <th>1166</th>\n",
       "      <td>campaign</td>\n",
       "      <td>478776</td>\n",
       "    </tr>\n",
       "  </tbody>\n",
       "</table>\n",
       "</div>"
      ],
      "text/plain": [
       "             word    count\n",
       "890       learned   655218\n",
       "480        simple  1216301\n",
       "695          meet   841239\n",
       "1514  description   347104\n",
       "1097    threshold   513770\n",
       "503        health  1169740\n",
       "443        giving  1318206\n",
       "1017        block   559193\n",
       "1517   consistent   346698\n",
       "1256       excuse   439235\n",
       "785         cover   734091\n",
       "448         bring  1303481\n",
       "969        active   590941\n",
       "966         voice   591843\n",
       "466         value  1255103\n",
       "1367   connection   390621\n",
       "955         court   596922\n",
       "577      supposed  1002970\n",
       "851      involved   688584\n",
       "1166     campaign   478776"
      ]
     },
     "execution_count": 27,
     "metadata": {},
     "output_type": "execute_result"
    }
   ],
   "source": [
    "# Show the head of the data\n",
    "actual_word_choices.head(20)"
   ]
  },
  {
   "cell_type": "markdown",
   "metadata": {},
   "source": [
    "The results of this look great! It appears that these words are specific enough to convey some kind of special meaning, but not so specific so as to only appear in a handful of documents. The words \"campaign\" and \"learned\", for instance, clearly convey a lot more meaning than \"like\" or \"really.\" Because we have chosen 1,000 words which appear with roughly 0.25 to 1 percent frequency in comments (\"roughly\" because the same word can be repeated in a comment), in theory most comments should contain at least one word that appears here. Next, let's write a function that creates a new variable which contains, for each post, a list of those words that appear in the above dataframe. "
   ]
  },
  {
   "cell_type": "code",
   "execution_count": 28,
   "metadata": {},
   "outputs": [
    {
     "data": {
      "text/plain": [
       "[Row(final_cleaned_body=['post', 'removed', 'information', 'used', 'identify', 'user', 'please', 'refer', 'rule', 'information', 'believe', 'post', 'removed', 'error', 'please', 'message'], chosen_words=['user', 'refer', 'error']),\n",
       " Row(final_cleaned_body=['join', 'date', 'link', 'karma', 'comment', 'karma', 'reputation', 'information', 'guarantee', 'successful', 'swap', 'provided', 'help', 'potential', 'trade', 'immediate', 'background', 'information', 'swapping', 'please', 'sure', 'familiarize'], chosen_words=['join', 'date', 'successful', 'provided', 'potential', 'familiarize']),\n",
       " Row(final_cleaned_body=['whether', 'work', 'really', 'cause', 'v', 'pain', 'tight', 'nerve', 'yes', 'probably', 'help', 'sure', 'give', 'plenty', 'time', 'quite', 'bit', 'consistent', 'couple', 'home', 'also', 'use', 'wand', 'internal', 'trigger', 'point', 'relief', 'ton', 'flare', 'far', 'yoga', 'happy', 'help', 'give', 'advice', 'want', 'teach', 'yoga', 'give', 'help', 'pelvic', 'floor', 'good', 'luck'], chosen_words=['whether', 'v', 'plenty', 'consistent', 'trigger', 'ton', 'advice', 'floor']),\n",
       " Row(final_cleaned_body=['personally', 'never', 'looking', 'lesser', 'two', 'definitely', 'cancer', 'wow', 'gotten', 'worse', 'every', 'expansion'], chosen_words=['cancer', 'wow']),\n",
       " Row(final_cleaned_body=['also', 'image', 'first', 'time', 'seen', 'wish', 'way', 'reverse', 'image', 'search', 'id', 'bet', 'money', 'previous', 'post', 'caption'], chosen_words=['image', 'image', 'search', 'bet']),\n",
       " Row(final_cleaned_body=['party', 'imp', 'dont', 'know', 'getting', 'many', 'times', 'havent', 'got', 'single', 'character', 'piece', 'bad', 'guess'], chosen_words=['piece']),\n",
       " Row(final_cleaned_body=['sender', 'sender', 'something', 'thats', 'done', 'fact', 'none', 'work', 'lock', 'screen', 'enter', 'password', 'helpful'], chosen_words=['none', 'helpful']),\n",
       " Row(final_cleaned_body=['yes', 'pro', 'mind', 'deal', 'also', 'get', 'great', 'hence', 'exclusive', 'content', 'always', 'choose', 'thats'], chosen_words=['pro', 'choose']),\n",
       " Row(final_cleaned_body=['top', 'comment', 'say', 'get', 'much', 'attention', 'thank', 'apparently', 'class', 'today', 'tomorrow', 'update'], chosen_words=['apparently', 'tomorrow', 'update']),\n",
       " Row(final_cleaned_body=['offshoot', 'philosophy', 'eat', 'dark', 'cant', 'see', 'theyre', 'eating', 'less', 'poop', 'together', 'room', 'efficient', 'one', 'waiting', 'turn'], chosen_words=['eat', 'dark', 'eating', 'waiting']),\n",
       " Row(final_cleaned_body=['solid', 'unit', 'workout', 'pretty', 'much', 'team', 'dont', 'worry', 'though', 'get', 'better', 'entering', 'saga', 'make', 'team', 'meta'], chosen_words=['solid', 'unit', 'meta']),\n",
       " Row(final_cleaned_body=['apply', 'part', 'time', 'soon', 'starting', 'offer', 'full', 'health', 'coverage', 'allow', 'work', 'second', 'job', 'easily', 'wait', 'till', 'driving', 'job', 'full', 'time', 'driving', 'assigned', 'based', 'seniority', 'start', 'go', 'first', 'make', 'time', 'half', 'anything', 'day', 'making', 'bank', 'prepared', 'pretty', 'much', 'constantly', 'lost', 'first', 'year', 'work', 'every', 'day', 'get', 'take', 'longer', 'handle', 'stress', 'physical', 'labor', 'excellent', 'job', 'possibly', 'much', 'possible', 'make', 'without', 'college', 'degree', 'apprenticeship'], chosen_words=['apply', 'starting', 'offer', 'health', 'allow', 'till', 'driving', 'driving', 'bank', 'constantly', 'stress', 'physical', 'possibly', 'college', 'degree']),\n",
       " Row(final_cleaned_body=['pragmatic', 'produce', 'content', 'everyone', 'bloated', 'category', 'unlikely', 'impossible', 'get', 'grow', 'channel', 'thought', 'game', 'also', 'dont', 'grow', 'channel', 'people', 'included', 'watch', 'video', 'thing', 'leave', 'case', 'point', 'guide', 'video', 'automata', 'like', 'didnt', 'really', 'translate', 'case', 'honestly', 'dont', 'know', 'better', 'content', 'aside', 'heavily', 'honestly', 'dont', 'patience', 'point', 'review', 'particular', 'go', 'whether', 'worth', 'money', 'new', 'game', 'us', 'original', 'know', 'worth'], chosen_words=['impossible', 'grow', 'channel', 'grow', 'channel', 'included', 'aside', 'heavily', 'review', 'particular', 'whether']),\n",
       " Row(final_cleaned_body=['fun', 'get', 'play', 'short', 'think', 'ill', 'likely', 'miss', 'session', 'times'], chosen_words=['miss']),\n",
       " Row(final_cleaned_body=['many', 'post', 'ha', 'glad', 'another', 'faithful', 'fan', 'yeah', 'lost', 'bunch', 'won', 'still', 'pretty', 'confident', 'still', 'best', 'team', 'east', 'probably', 'make', 'freak', 'bigger', 'picture', 'still', 'looking', 'good', 'got', 'talent', 'growing', 'ahead'], chosen_words=['glad', 'fan', 'won', 'east', 'bigger', 'picture', 'talent', 'growing', 'ahead']),\n",
       " Row(final_cleaned_body=['sur', 'si', 'arrive', 'bumper', 'un', 'en', 'la', 'pendant', 'double', 'men', 'en', 'de', 'pour', 'dire'], chosen_words=['un', 'en', 'double', 'en']),\n",
       " Row(final_cleaned_body=['wish', 'sadly', 'reducing', 'cost', 'doesnt', 'mean', 'shifting', 'amount', 'saved', 'payroll'], chosen_words=['saved']),\n",
       " Row(final_cleaned_body=['effective', 'gold', 'sink', 'people', 'lot', 'effective', 'gold', 'sink', 'people', 'stick', 'spec', 'people', 'lot', 'therefore', 'least', 'people', 'effective'], chosen_words=['gold', 'gold', 'stick', 'therefore']),\n",
       " Row(final_cleaned_body=['bear', 'thing', 'somewhat', 'true', 'belief', 'commonplace', 'unscrupulous', 'living', 'genuine', 'shaven', 'dressed', 'clothing'], chosen_words=['living']),\n",
       " Row(final_cleaned_body=['went', 'mail', 'extremely', 'disappointing', 'amazing', 'set', 'blizzard', 'needs', 'revamp', 'mix', 'leather', 'plate', 'mail', 'together', 'hide', 'hide', 'demon', 'druid', 'wind', 'walker', 'monk', 'half', 'plate', 'brewmaster', 'monk', 'shaman', 'fury', 'warrior', 'holy', 'paladin', 'full', 'plate', 'arms', 'warrior', 'protection', 'retribution', 'paladin', 'death', 'knight', 'make', 'full', 'plate', 'full', 'body', 'look', 'half', 'plate', 'kind', 'combination', 'seen', 'good', 'mail', 'plate', 'like', 'forsaken', 'mail', 'shown', 'hide', 'basically', 'leather', 'also', 'cloth', 'hide', 'depending', 'style'], chosen_words=['extremely', 'mix', 'holy', 'death', 'shown', 'depending', 'style'])]"
      ]
     },
     "execution_count": 28,
     "metadata": {},
     "output_type": "execute_result"
    }
   ],
   "source": [
    "# Convert 1,000 chosen words to a list\n",
    "list_of_word_choices = list(actual_word_choices['word'])\n",
    "\n",
    "# Define a function to remove words which do not appear in the list of 1,000 randomly selected words above\n",
    "# This function assumes the input is a list of strings\n",
    "def keep_selected_words(list_of_strings):\n",
    "    # Create a new blank list\n",
    "    new_list = []\n",
    "    # Loop over each string and if the word is in the list_of_word_choices, add it to the new list\n",
    "    for word in list_of_strings:\n",
    "        if word in list_of_word_choices:\n",
    "            new_list.append(word)\n",
    "\n",
    "    return new_list\n",
    "\n",
    "# Specify above function as a UDF \n",
    "udf_keep_selected_words = udf(keep_selected_words, ArrayType(StringType()))\n",
    "# Apply this function to \"body\" column\n",
    "reddit_comments_data_DF_cleaned = reddit_comments_data_DF_cleaned.withColumn(\"chosen_words\", udf_keep_selected_words(\"final_cleaned_body\"))\n",
    "\n",
    "# Compare before and after columns to make sure everything has worked!\n",
    "reddit_comments_data_DF_cleaned.select(\"final_cleaned_body\", \"chosen_words\").take(20)\n"
   ]
  },
  {
   "cell_type": "markdown",
   "metadata": {},
   "source": [
    "Now it appears that we are in pretty good shape for more aggregate exploratory data analysis. Let's first keep only columns that we need and then save to a Parquet file and read it back in. Finally, we will display the number of rows of our final cleaned dataset."
   ]
  },
  {
   "cell_type": "code",
   "execution_count": 29,
   "metadata": {},
   "outputs": [
    {
     "data": {
      "text/plain": [
       "[Row(final_cleaned_body=['post', 'removed', 'information', 'used', 'identify', 'user', 'please', 'refer', 'rule', 'information', 'believe', 'post', 'removed', 'error', 'please', 'message'], chosen_words=['user', 'refer', 'error'], post_number_of_words=16, controversiality=0, score=1, subreddit='iamverysmart', month=10),\n",
       " Row(final_cleaned_body=['join', 'date', 'link', 'karma', 'comment', 'karma', 'reputation', 'information', 'guarantee', 'successful', 'swap', 'provided', 'help', 'potential', 'trade', 'immediate', 'background', 'information', 'swapping', 'please', 'sure', 'familiarize'], chosen_words=['join', 'date', 'successful', 'provided', 'potential', 'familiarize'], post_number_of_words=22, controversiality=0, score=1, subreddit='mechmarket', month=10),\n",
       " Row(final_cleaned_body=['whether', 'work', 'really', 'cause', 'v', 'pain', 'tight', 'nerve', 'yes', 'probably', 'help', 'sure', 'give', 'plenty', 'time', 'quite', 'bit', 'consistent', 'couple', 'home', 'also', 'use', 'wand', 'internal', 'trigger', 'point', 'relief', 'ton', 'flare', 'far', 'yoga', 'happy', 'help', 'give', 'advice', 'want', 'teach', 'yoga', 'give', 'help', 'pelvic', 'floor', 'good', 'luck'], chosen_words=['whether', 'v', 'plenty', 'consistent', 'trigger', 'ton', 'advice', 'floor'], post_number_of_words=44, controversiality=0, score=1, subreddit='vulvodynia', month=10),\n",
       " Row(final_cleaned_body=['personally', 'never', 'looking', 'lesser', 'two', 'definitely', 'cancer', 'wow', 'gotten', 'worse', 'every', 'expansion'], chosen_words=['cancer', 'wow'], post_number_of_words=12, controversiality=0, score=1, subreddit='wow', month=10),\n",
       " Row(final_cleaned_body=['also', 'image', 'first', 'time', 'seen', 'wish', 'way', 'reverse', 'image', 'search', 'id', 'bet', 'money', 'previous', 'post', 'caption'], chosen_words=['image', 'image', 'search', 'bet'], post_number_of_words=16, controversiality=0, score=29, subreddit='gaming', month=10)]"
      ]
     },
     "execution_count": 29,
     "metadata": {},
     "output_type": "execute_result"
    }
   ],
   "source": [
    "# Keep only columns we need for the remainder of this analysis.\n",
    "reddit_comments_data_DF_cleaned = reddit_comments_data_DF_cleaned.select('final_cleaned_body', 'chosen_words', 'post_number_of_words', 'controversiality', 'score', 'subreddit', 'month')\n",
    "# Show first 5 rows of this DF\n",
    "reddit_comments_data_DF_cleaned.take(5)\n"
   ]
  },
  {
   "cell_type": "code",
   "execution_count": 30,
   "metadata": {},
   "outputs": [],
   "source": [
    "# Save this as a Parquet file\n",
    "reddit_comments_data_DF_cleaned.write.parquet(\"s3://ericlarosefinalprojectbucket/reddit_comments_data_DF_cleaned.parquet\",mode=\"overwrite\")"
   ]
  },
  {
   "cell_type": "code",
   "execution_count": 31,
   "metadata": {},
   "outputs": [],
   "source": [
    "# Read this Parquet file back in \n",
    "reddit_comments_data_DF_cleaned = spark.read.parquet(\"s3://ericlarosefinalprojectbucket/reddit_comments_data_DF_cleaned.parquet\")"
   ]
  },
  {
   "cell_type": "code",
   "execution_count": 32,
   "metadata": {},
   "outputs": [
    {
     "data": {
      "text/plain": [
       "134434464"
      ]
     },
     "execution_count": 32,
     "metadata": {},
     "output_type": "execute_result"
    }
   ],
   "source": [
    "# Check that this data loaded back in correctly and confirm count of observations.\n",
    "reddit_comments_data_DF_cleaned.count()"
   ]
  },
  {
   "cell_type": "markdown",
   "metadata": {},
   "source": [
    "We can see that our final cleaned dataset has 134,434,464 rows, compared to 476,259,744 in the original dataset. Thus, after our cleaning we have kept roughly 28.2% of the original observations.  \n",
    "\n",
    "## Aggregate Exploratory Data Analysis\n",
    "\n",
    "Previously, we have done analysis of individual variables, one at a time, in order to clean the data. Now we turn to aggregate data analysis, aggregating variables by groups in various ways and looking at the relationship between variables. To facilitate this analysis, let's first make a SQL table from our data, which lends to some efficient exploratory data analysis (EDA) operations."
   ]
  },
  {
   "cell_type": "code",
   "execution_count": 33,
   "metadata": {},
   "outputs": [
    {
     "name": "stdout",
     "output_type": "stream",
     "text": [
      "+--------------------+--------------------+--------------------+----------------+-----+--------------+-----+\n",
      "|  final_cleaned_body|        chosen_words|post_number_of_words|controversiality|score|     subreddit|month|\n",
      "+--------------------+--------------------+--------------------+----------------+-----+--------------+-----+\n",
      "|[yes, drunk, edit...|[drunk, method, w...|                  24|               0|    2|instant_regret|    1|\n",
      "|[hard, part, wint...|[winter, term, de...|                  16|               0|   22|    TeachingUK|    1|\n",
      "|[please, please, ...|               [sad]|                  18|               0|    1|  iamverysmart|    1|\n",
      "|[bring, thats, co...|[bring, comfortab...|                  11|               0|    2|           nfl|    1|\n",
      "|[throw, ball, gam...|[throw, ball, any...|                  11|               0|    1|        ravens|    1|\n",
      "+--------------------+--------------------+--------------------+----------------+-----+--------------+-----+\n",
      "\n"
     ]
    }
   ],
   "source": [
    "# Create a SQL table of cleaned reddit data\n",
    "reddit_comments_data_DF_cleaned.createOrReplaceTempView(\"reddit_comments_SQL\")\n",
    "\n",
    "# Look at the first 5 rows of our data\n",
    "spark.sql(\"\"\"\n",
    "SELECT * \n",
    "FROM reddit_comments_SQL\n",
    "LIMIT 5\n",
    "\"\"\").cache().show()"
   ]
  },
  {
   "cell_type": "markdown",
   "metadata": {},
   "source": [
    "A first method of exploration is to look at the relationship between the length of each comment and the score. It might be reasonable to assume that longer comments have higher scores, on average. For instance, if a Redditor posts a question, a longer comment will likely be seen as more informative and helpful, thus receiving a higher score. Below, we calculate the average score among each post length and plot the relationship to see if one exists."
   ]
  },
  {
   "cell_type": "code",
   "execution_count": 34,
   "metadata": {},
   "outputs": [
    {
     "name": "stderr",
     "output_type": "stream",
     "text": [
      "/home/hadoop/miniconda/lib/python3.7/site-packages/pyarrow/util.py:43: FutureWarning: pyarrow.open_stream is deprecated as of 0.17.0, please use pyarrow.ipc.open_stream instead.\n",
      "  warnings.warn(msg, FutureWarning)\n"
     ]
    },
    {
     "name": "stdout",
     "output_type": "stream",
     "text": [
      "Correlation of score and number of words across all comments:\n",
      "-0.01040361291637522\n"
     ]
    },
    {
     "data": {
      "image/png": "[encoded data removed]",
      "text/plain": [
       "<Figure size 432x288 with 1 Axes>"
      ]
     },
     "metadata": {
      "needs_background": "light"
     },
     "output_type": "display_data"
    }
   ],
   "source": [
    "# Calculate average score conditional on number of words in each post\n",
    "average_score_per_length = spark.sql(\"\"\"\n",
    "SELECT post_number_of_words, AVG(score)\n",
    "FROM reddit_comments_SQL\n",
    "GROUP BY post_number_of_words\n",
    "ORDER BY post_number_of_words\n",
    "\"\"\").cache().toPandas()\n",
    "\n",
    "# Create a plot of average score against number of words\n",
    "import matplotlib.pyplot as plt\n",
    "import numpy as np\n",
    "# Add the actual data points\n",
    "plt.scatter(average_score_per_length['post_number_of_words'], average_score_per_length['avg(score)'])\n",
    "# Add a best fit linear regression line\n",
    "m, b = np.polyfit(average_score_per_length['post_number_of_words'], average_score_per_length['avg(score)'], 1)\n",
    "plt.plot(average_score_per_length['post_number_of_words'], m*average_score_per_length['post_number_of_words'] + b)\n",
    "plt.xlabel('Number of Words in Post')\n",
    "plt.ylabel('Average Score for Given Comment Length')\n",
    "plt.title('Relationship between Score and Comment Length of Reddit Comments')\n",
    "\n",
    "# Print the correlation of the two variables\n",
    "print(\"Correlation of score and number of words across all comments:\")\n",
    "print(reddit_comments_data_DF_cleaned.stat.corr('post_number_of_words', 'score'))"
   ]
  },
  {
   "cell_type": "markdown",
   "metadata": {},
   "source": [
    "From above, we can see that there appears to be a slightly negative relationship between the length of the post and the average score. Perhaps Redditors don't enjoy reading really long comments and tend to downvote them. That said, the relationship is quite weak, and there appear to be some drastic ups and downs from one number to the next in the right half of the plot. Additionally, the expected score goes from about 4.7 for a 10-word post to 4.6 for a 90-word one, which is only a 2-3% decrease. Overall, the relationship appears to be quite weak and probably not super interesting to explore in further detail.\n",
    "\n",
    "Next, let's look at the number of comments and the average score and comment length by month, to see if there any interesting patterns over time."
   ]
  },
  {
   "cell_type": "code",
   "execution_count": 35,
   "metadata": {},
   "outputs": [
    {
     "name": "stdout",
     "output_type": "stream",
     "text": [
      "+-----+---------------------+------------------+-----------------------+\n",
      "|month|num_comments_in_month|avg_score_in_month|avg_word_count_in_month|\n",
      "+-----+---------------------+------------------+-----------------------+\n",
      "|    1|             36984346| 4.728388572830245|     23.191880910912957|\n",
      "|   10|             32492916|  4.73210163716916|     22.983557246754955|\n",
      "|   11|             31983857| 4.806779526309163|     23.030853877316922|\n",
      "|   12|             32973345| 4.788317745742812|       22.9938200992347|\n",
      "+-----+---------------------+------------------+-----------------------+\n",
      "\n"
     ]
    }
   ],
   "source": [
    "# Look at number of comments, average score, and average word length by month\n",
    "spark.sql(\"\"\"\n",
    "SELECT month, COUNT(*) as num_comments_in_month, AVG(score) as avg_score_in_month, AVG(post_number_of_words) as avg_word_count_in_month\n",
    "FROM reddit_comments_SQL\n",
    "GROUP BY month\n",
    "ORDER BY month\n",
    "\"\"\").cache().show()"
   ]
  },
  {
   "cell_type": "markdown",
   "metadata": {},
   "source": [
    "We can see that there are substantially more posts in January 2019 than October, November, or December of 2018. Perhaps there were certain events that gained a lot of attention on Reddit in January. However, the average score and average word count appear very similar across all months, and the total number of comments is very similar across October, November, and December 2018. Overall, it does not seem like there are any drastic variations in characteristics of comments across months.\n",
    "\n",
    "Next, let's turn to subreddits - namely, what are the most popular subreddits and how does the average score and word count vary across subreddits? Additionally, how many subreddits are there in this data? We use a SQL query below to investigate this."
   ]
  },
  {
   "cell_type": "code",
   "execution_count": 36,
   "metadata": {},
   "outputs": [
    {
     "name": "stdout",
     "output_type": "stream",
     "text": [
      "+-------------------------+\n",
      "|count(DISTINCT subreddit)|\n",
      "+-------------------------+\n",
      "|                   117324|\n",
      "+-------------------------+\n",
      "\n"
     ]
    }
   ],
   "source": [
    "# Find number of subreddits in the data\n",
    "spark.sql(\"\"\"\n",
    "SELECT COUNT(DISTINCT subreddit) \n",
    "FROM reddit_comments_SQL\n",
    "\"\"\").cache().show()"
   ]
  },
  {
   "cell_type": "code",
   "execution_count": 37,
   "metadata": {},
   "outputs": [
    {
     "name": "stdout",
     "output_type": "stream",
     "text": [
      "+-------------------+-------------------------+----------------------+---------------------------+------------------------+\n",
      "|          subreddit|num_comments_in_subreddit|avg_score_in_subreddit|avg_word_count_in_subreddit|pct_controv_in_subreddit|\n",
      "+-------------------+-------------------------+----------------------+---------------------------+------------------------+\n",
      "|          AskReddit|                  7020471|     4.394678077866855|         23.329451115174468|      1.3601793953710513|\n",
      "|           politics|                  3089379|     5.579538476826572|         22.818860359962308|       4.324946858252096|\n",
      "|          worldnews|                  1309005|     4.425363539482278|          24.07224189365205|       7.909442668286218|\n",
      "|                nfl|                  1010022|     6.119587494133791|           18.8510854219017|       4.215452732712753|\n",
      "|               news|                  1004261|     5.477906639807779|          23.39685201357018|        9.26870604354844|\n",
      "|   unpopularopinion|                   946915|    2.9167855615340343|         23.442741956775425|       4.685425830195952|\n",
      "|         The_Donald|                   903325|     7.922925857249606|          20.20852849196026|      2.0144466277364184|\n",
      "|                nba|                   862586|     6.415000939036803|            19.466718680804|       5.985258281493092|\n",
      "|    leagueoflegends|                   771850|     4.465955820431431|         21.435084537151003|       4.670467059661852|\n",
      "|     DestinyTheGame|                   711080|     3.358657253754852|         21.760057940034876|      2.9442538111042356|\n",
      "|             gaming|                   702321|     4.072402790177141|         20.345952918964404|       3.571586212002774|\n",
      "|               fo76|                   653055|     2.942580640221727|         21.736273361355476|      2.7017632511809877|\n",
      "|      todayilearned|                   647821|     6.093181604177698|         22.238703283777465|        4.89456192374128|\n",
      "|      relationships|                   640495|      7.62940069789772|          30.40238565484508|       3.097135809022709|\n",
      "|              funny|                   629003|     5.185654122476364|         19.735815250483704|       4.559119749826312|\n",
      "|         FortNiteBR|                   621218|     2.860324394978896|         22.899291392071703|      2.6760332121735044|\n",
      "|  reddeadredemption|                   616682|    4.2786103696881055|         19.718626455774615|         1.8607645431519|\n",
      "|     Showerthoughts|                   606263|    3.5405558313801104|          19.51027359413324|      1.5725848352942533|\n",
      "|relationship_advice|                   586883|     3.971534360340988|         26.607427715575337|      2.6644152241588186|\n",
      "|                CFB|                   575659|     6.837799808567225|         18.923088147670757|      3.6931586234211577|\n",
      "+-------------------+-------------------------+----------------------+---------------------------+------------------------+\n",
      "\n"
     ]
    }
   ],
   "source": [
    "# Find 20 most popular subreddits, and average score and word count and proportion of controversial posts\n",
    "spark.sql(\"\"\"\n",
    "SELECT subreddit, COUNT(*) as num_comments_in_subreddit, AVG(score) as avg_score_in_subreddit, AVG(post_number_of_words) as avg_word_count_in_subreddit, 100 * AVG(controversiality) as pct_controv_in_subreddit\n",
    "FROM reddit_comments_SQL\n",
    "GROUP BY subreddit\n",
    "ORDER BY num_comments_in_subreddit DESC\n",
    "LIMIT 20\n",
    "\"\"\").cache().show(20)"
   ]
  },
  {
   "cell_type": "markdown",
   "metadata": {},
   "source": [
    "From above, we can see that there are 117,324 distinct subreddits but the large majority of comments are clearly in a small number of subreddits. The top 5 subreddits alone appear to contain roughly about 10% of all Reddit comments. The most popular subreddits appear to be on fairly varied topics, ranging from Q&A forums to political forums to news to sports to humor and other topics. It is also apparent that there is quite a bit of variation in the average score, word count, and controversiality of each subreddit. For instance, we can see that over 9% of posts in the \"news\" subreddit are controversial, compared with only 1.36 percent in the \"AskReddit\" subreddit. Likewise, the \"The_Donald\" subreddit has an average score of 7.92 while the \"FortNiteBR\" subreddit has an average score of just 2.86. Similar large differences exist for the average word count. For instance, the \"CFB\" (\"college football\") subreddit has an average post length of around 19 words compared to nearly 27 words for \"relationship_advice.\" This also makes sense because comments in the latter subreddit presumably give advice, which probably requires more than a small number of words. On the other hand, the former subreddit is probably more likely to contain short comments that say in around 10-15 words, \"go team!\"\n",
    "\n",
    "To investigate this dispersion further, let's visualize these average for all subreddits with at least 100 posts (a somewhat artbitrary number, but large enough so that one post won't substantially skew averages)."
   ]
  },
  {
   "cell_type": "code",
   "execution_count": 38,
   "metadata": {},
   "outputs": [
    {
     "name": "stderr",
     "output_type": "stream",
     "text": [
      "/home/hadoop/miniconda/lib/python3.7/site-packages/pyarrow/util.py:43: FutureWarning: pyarrow.open_stream is deprecated as of 0.17.0, please use pyarrow.ipc.open_stream instead.\n",
      "  warnings.warn(msg, FutureWarning)\n"
     ]
    },
    {
     "name": "stdout",
     "output_type": "stream",
     "text": [
      "   subreddit  num_comments_in_subreddit  avg_score_in_subreddit  \\\n",
      "0  AskReddit                    7020471                4.394678   \n",
      "1   politics                    3089379                5.579538   \n",
      "2  worldnews                    1309005                4.425364   \n",
      "3        nfl                    1010022                6.119587   \n",
      "4       news                    1004261                5.477907   \n",
      "\n",
      "   avg_word_count_in_subreddit  pct_controversial_in_subreddit  \n",
      "0                    23.329451                        1.360179  \n",
      "1                    22.818860                        4.324947  \n",
      "2                    24.072242                        7.909443  \n",
      "3                    18.851085                        4.215453  \n",
      "4                    23.396852                        9.268706  \n"
     ]
    },
    {
     "data": {
      "text/plain": [
       "Text(0.5, 1.0, 'Average Scores and Comments by Subreddit among those with at Least 100 Posts ')"
      ]
     },
     "execution_count": 38,
     "metadata": {},
     "output_type": "execute_result"
    },
    {
     "data": {
      "image/png": "[encoded data removed]",
      "text/plain": [
       "<Figure size 432x288 with 1 Axes>"
      ]
     },
     "metadata": {
      "needs_background": "light"
     },
     "output_type": "display_data"
    }
   ],
   "source": [
    "# Among subreddits with at least 100 posts, create a Pandas dataframe of the subreddit \n",
    "subreddits_at_least_100_posts = spark.sql(\"\"\"\n",
    "SELECT subreddit, COUNT(*) as num_comments_in_subreddit, AVG(score) as avg_score_in_subreddit, AVG(post_number_of_words) as avg_word_count_in_subreddit, 100 * AVG(controversiality) as pct_controversial_in_subreddit\n",
    "FROM reddit_comments_SQL\n",
    "GROUP BY subreddit\n",
    "HAVING num_comments_in_subreddit >= 100\n",
    "ORDER BY num_comments_in_subreddit DESC\n",
    "\"\"\").cache().toPandas()\n",
    "# Print first 5 rows of this dataframe\n",
    "print(subreddits_at_least_100_posts.head(n=5))\n",
    "\n",
    "# Plot average word count and score by subreddit\n",
    "# Add the actual data points\n",
    "plt.scatter(subreddits_at_least_100_posts['avg_word_count_in_subreddit'], subreddits_at_least_100_posts['avg_score_in_subreddit'])\n",
    "plt.xlabel('Average Number of Words per Comment in Subreddit')\n",
    "plt.ylabel('Average Score per Comment in Subreddit')\n",
    "plt.title('Average Scores and Comments by Subreddit among those with at Least 100 Posts ')\n"
   ]
  },
  {
   "cell_type": "code",
   "execution_count": 39,
   "metadata": {},
   "outputs": [
    {
     "data": {
      "text/plain": [
       "Text(0.5, 1.0, 'Average Scores and Controversiality by Subreddit among those with at Least 100 Posts ')"
      ]
     },
     "execution_count": 39,
     "metadata": {},
     "output_type": "execute_result"
    },
    {
     "data": {
      "image/png": "[encoded data removed]",
      "text/plain": [
       "<Figure size 432x288 with 1 Axes>"
      ]
     },
     "metadata": {
      "needs_background": "light"
     },
     "output_type": "display_data"
    }
   ],
   "source": [
    "# Plot average score and percent controversial by subreddit\n",
    "plt.scatter(subreddits_at_least_100_posts['avg_score_in_subreddit'], subreddits_at_least_100_posts['pct_controversial_in_subreddit'])\n",
    "plt.xlabel('Average Score per Comment in Subreddit')\n",
    "plt.ylabel('Percent of Comments Controversial in Subreddit')\n",
    "plt.title('Average Scores and Controversiality by Subreddit among those with at Least 100 Posts ')\n"
   ]
  },
  {
   "cell_type": "markdown",
   "metadata": {},
   "source": [
    "The plots above show that there isn't an obviously strong correlation of these subreddit-level variables with each other. It looks like on average, the average score tends to decrease slightly with the average comment length, but it looks like a small effect and for the subreddits that have an average word count close to the average word count among all subreddits, there is a ton of variation in scores. Likewise, it appears that the percent of comments marked as controversial appears to decrease slightly with the average score of the subreddit, but again there is very wide variation of these variables within subreddits. That is, the average word count, score, and controversiality can substantially change between subreddits, and knowing which subreddit a comment is in may give you a better ability to guess the comment's characteristics.\n",
    "\n",
    "Now that we've shown that the subreddits tend to have some different characteristics, let's look in more detail at the \"controversiality\" variable. Reddit appears to label a post as \"controversial\" if it has received a large number of both upvotes and downvotes. Thus, we might reasonable expect that controversial posts tend to have a score close to 0, as do non-controversial posts, but that the disperion of scores among controversial posts will be considerably lower. Let's look at some summary statistics using a SQL query below."
   ]
  },
  {
   "cell_type": "code",
   "execution_count": 40,
   "metadata": {},
   "outputs": [
    {
     "name": "stdout",
     "output_type": "stream",
     "text": [
      "+------------------+------------------+-----------------+\n",
      "|total_num_comments|         avg_score|   avg_word_count|\n",
      "+------------------+------------------+-----------------+\n",
      "|         130808925|4.8800555543132855|23.05358946264561|\n",
      "|           3625539|0.5261344589039036|23.09250790020463|\n",
      "+------------------+------------------+-----------------+\n",
      "\n",
      "+------------------+\n",
      "| pct_controversial|\n",
      "+------------------+\n",
      "|2.6968821030892793|\n",
      "+------------------+\n",
      "\n"
     ]
    }
   ],
   "source": [
    "# Look at average score and word length among controversial and non-controversial posts\n",
    "spark.sql(\"\"\"\n",
    "SELECT COUNT(*) as total_num_comments, AVG(score) as avg_score, AVG(post_number_of_words) as avg_word_count\n",
    "FROM reddit_comments_SQL\n",
    "GROUP BY controversiality\n",
    "\"\"\").cache().show()\n",
    "\n",
    "# Additionally, calculate the total number of comments that are controversial\n",
    "spark.sql(\"\"\"\n",
    "SELECT 100*AVG(controversiality) AS pct_controversial\n",
    "FROM reddit_comments_SQL\n",
    "\"\"\").cache().show()"
   ]
  },
  {
   "cell_type": "markdown",
   "metadata": {},
   "source": [
    "First, we can see that only 2.6% of comments are classified as controversial. Additionally, the average word count is extremely similar among controversial and non-controversial posts but the average score appears considerably lower among controversial posts. Let's use some box-and-whisker plots to visualize this below, using a random sample of 100,000 rows of the dataset. "
   ]
  },
  {
   "cell_type": "code",
   "execution_count": 41,
   "metadata": {},
   "outputs": [
    {
     "name": "stderr",
     "output_type": "stream",
     "text": [
      "/home/hadoop/miniconda/lib/python3.7/site-packages/pyarrow/util.py:43: FutureWarning: pyarrow.open_stream is deprecated as of 0.17.0, please use pyarrow.ipc.open_stream instead.\n",
      "  warnings.warn(msg, FutureWarning)\n"
     ]
    },
    {
     "data": {
      "text/plain": [
       "array([<AxesSubplot:title={'center':'post_number_of_words'}, xlabel='controversiality'>,\n",
       "       <AxesSubplot:title={'center':'score'}, xlabel='controversiality'>],\n",
       "      dtype=object)"
      ]
     },
     "execution_count": 41,
     "metadata": {},
     "output_type": "execute_result"
    },
    {
     "data": {
      "image/png": "[encoded data removed]",
      "text/plain": [
       "<Figure size 432x288 with 2 Axes>"
      ]
     },
     "metadata": {
      "needs_background": "light"
     },
     "output_type": "display_data"
    }
   ],
   "source": [
    "# Take a random sample of 100,000 rows from the data\n",
    "num_rows = reddit_comments_data_DF_cleaned.count()\n",
    "boxplot_data = reddit_comments_data_DF_cleaned.select('controversiality', 'post_number_of_words', 'score').sample(withReplacement = False, fraction = 100000/num_rows, seed = 6832).toPandas()\n",
    "\n",
    "# Do box and whisker plot of scores and number of words, grouped by controversiality score\n",
    "boxplot_data.boxplot(column=[\"post_number_of_words\", \"score\"], by=\"controversiality\")\n",
    "\n"
   ]
  },
  {
   "cell_type": "markdown",
   "metadata": {},
   "source": [
    "We can clearly see that the distributions of the number of words look very similar among controversial and non-controversial posts. However, the distribution of scores looks quite different. Particularly, the range of scores is much lower among controversial comments, with no very low and very few very high scores among controversial posts.\n",
    "\n",
    "When we looked at individual subreddits, we also saw that controversiality varied a lot among subreddits. It seems that knowing a post's subreddit and its total score can potentially give you some strong predictive power in guessing whether or not a post is controversial.\n",
    "\n",
    "Next, let's look at the most common words in controversial and non-controversial posts to see if there are clear differences in factors such as tone. Particularly, **among the 1,000 chosen words determined earlier**, we calculate the word counts among controversial and non-controversial posts and see if there are any clear differences in the most and least frequent of these words."
   ]
  },
  {
   "cell_type": "code",
   "execution_count": 42,
   "metadata": {},
   "outputs": [
    {
     "name": "stderr",
     "output_type": "stream",
     "text": [
      "/home/hadoop/miniconda/lib/python3.7/site-packages/pyarrow/util.py:43: FutureWarning: pyarrow.open_stream is deprecated as of 0.17.0, please use pyarrow.ipc.open_stream instead.\n",
      "  warnings.warn(msg, FutureWarning)\n"
     ]
    },
    {
     "name": "stdout",
     "output_type": "stream",
     "text": [
      "20 most common chosen words in controversial posts:\n",
      "         word  count\n",
      "0   political  62822\n",
      "1      racist  61251\n",
      "2    argument  60668\n",
      "3       woman  57242\n",
      "4     clearly  56999\n",
      "5       media  56095\n",
      "6      public  53970\n",
      "7        news  53605\n",
      "8       human  52753\n",
      "9         gun  52650\n",
      "10   shouldnt  52554\n",
      "11         en  51649\n",
      "12  seriously  51308\n",
      "13        law  50937\n",
      "14       poor  50445\n",
      "15   majority  49056\n",
      "16      child  48157\n",
      "17       fair  47689\n",
      "18      funny  45670\n",
      "19          e  45564\n",
      "10 least common chosen words in controversial posts:\n",
      "            word  count\n",
      "990       filter   3900\n",
      "991        flair   3774\n",
      "992        audio   3575\n",
      "993        hello   3359\n",
      "994       adjust   3259\n",
      "995    moderator   2659\n",
      "996       repost   2195\n",
      "997    threshold   1653\n",
      "998     resubmit    225\n",
      "999  familiarize    188\n"
     ]
    }
   ],
   "source": [
    "# Calculate word counts among controversial posts\n",
    "word_counts_controversial = reddit_comments_data_DF_cleaned.filter(\"controversiality = 1\").withColumn('word', F.explode(F.col('chosen_words'))).groupBy('word').count().sort('count', ascending=False).toPandas()\n",
    "# Display most common words in controversial posts, among 1,000 chosen words\n",
    "print(\"20 most common chosen words in controversial posts:\")\n",
    "print(word_counts_controversial.head(20))\n",
    "# Display least common words in controversial posts, among 1,000 chosen words\n",
    "print(\"10 least common chosen words in controversial posts:\")\n",
    "print(word_counts_controversial.tail(10))\n"
   ]
  },
  {
   "cell_type": "code",
   "execution_count": 43,
   "metadata": {},
   "outputs": [
    {
     "name": "stderr",
     "output_type": "stream",
     "text": [
      "/home/hadoop/miniconda/lib/python3.7/site-packages/pyarrow/util.py:43: FutureWarning: pyarrow.open_stream is deprecated as of 0.17.0, please use pyarrow.ipc.open_stream instead.\n",
      "  warnings.warn(msg, FutureWarning)\n"
     ]
    },
    {
     "name": "stdout",
     "output_type": "stream",
     "text": [
      "20 most common chosen words in non-controversial posts:\n",
      "            word    count\n",
      "0           text  1330828\n",
      "1           mine  1323915\n",
      "2        feeling  1320379\n",
      "3         bought  1314342\n",
      "4           book  1313612\n",
      "5       specific  1309208\n",
      "6        totally  1300330\n",
      "7           shot  1297759\n",
      "8   relationship  1297345\n",
      "9        whether  1293093\n",
      "10       quality  1291066\n",
      "11         movie  1290618\n",
      "12             e  1282441\n",
      "13    discussion  1280566\n",
      "14         front  1279031\n",
      "15        giving  1275003\n",
      "16           cut  1274570\n",
      "17         along  1271636\n",
      "18        advice  1269510\n",
      "19         bring  1265750\n",
      "10 least common chosen words in non-controversial posts:\n",
      "        word   count\n",
      "990     rent  329506\n",
      "991  federal  328652\n",
      "992    cross  328590\n",
      "993    brown  328359\n",
      "994  heavily  326750\n",
      "995   former  326066\n",
      "996   racism  326054\n",
      "997   cancer  324632\n",
      "998  western  324091\n",
      "999   demand  322993\n"
     ]
    }
   ],
   "source": [
    "# Calculate word counts among non-controversial posts\n",
    "word_counts_non_controversial = reddit_comments_data_DF_cleaned.filter(\"controversiality = 0\").withColumn('word', F.explode(F.col('chosen_words'))).groupBy('word').count().sort('count', ascending=False).toPandas()\n",
    "# Display most common words in non-controversial posts, among 1,000 chosen words\n",
    "print(\"20 most common chosen words in non-controversial posts:\")\n",
    "print(word_counts_non_controversial.head(20))\n",
    "# Display least common words in non-controversial posts, among 1,000 chosen words\n",
    "print(\"10 least common chosen words in non-controversial posts:\")\n",
    "print(word_counts_non_controversial.tail(10))\n"
   ]
  },
  {
   "cell_type": "markdown",
   "metadata": {},
   "source": [
    "Wow! We can see that among the 1,000 randomly selected words to be used in this analysis, the most common words that appear in controversial posts indeed are words that sound controversial or have very negative connotations, including \"political\", \"racist\", \"gun\", \"shouldnt\", and \"poor\". In contrast, the most common words in non-controversial posts do indeed appear to be neutrally- or positively-charged. \n",
    "\n",
    "It seems that we have the grounds for some interesting modeling here. Namely, we have seen several factors that appear to be correlated with controversial comments, including the words used, the score, and the subreddit (as some subreddits have substantially higher rates of controversial posts than others). It seems that if we know the subreddit of a post, the words used (among the 1,000 randomly selected), and some other characteristics, we might be able to accurately model the likelihood of a given post being controversial. This is a classification problem as the outcome is binary. \n",
    "\n",
    "## Preparing Data for Modeling, and Conducting Modeling\n",
    "\n",
    "In theory we want to set up our data so that our features are a set of 1,000 dummy variables indicating whether each of the 1,000 randomly selected words appears in a post, a set of dummy variables corresponding to the subreddit in which a post appears, and two numeric variables corresponding to the score and number of words of the comment. As we saw above, there are well over 100,000 subreddits, roughly as many as the number of unique words we found, so it would be completely infeasible to include a dummy variable for each subreddit. Additionally, a large number of subreddits have very few posts which could easily skew results. To greatly simplify things, we want to create a dataset where we consider only comments that have appeared in the 20 most popular subreddits. We create this dataset below, and use this in our modeling. "
   ]
  },
  {
   "cell_type": "code",
   "execution_count": 44,
   "metadata": {},
   "outputs": [
    {
     "name": "stdout",
     "output_type": "stream",
     "text": [
      "[Row(final_cleaned_body=['even', 'dislike', 'hard', 'hate', 'game', 'done', 'pretty', 'damn', 'well', 'like', 'much', 'though', 'tilly', 'probably', 'favorite', 'girl', 'plus', 'like', 'name'], chosen_words=['damn', 'favorite', 'girl'], post_number_of_words=19, controversiality=0, score=16, subreddit='reddeadredemption', month=1), Row(final_cleaned_body=['hi', 'post', 'removed', 'body', 'text', 'box', 'use', 'title', 'field', 'post', 'question', 'per', 'rule', 'use', 'body', 'text', 'box', 'resubmit', 'post', 'opinion', 'whats', 'better', 'closeness', 'child', 'making', 'sure', 'better', 'life', 'without', 'bot', 'action', 'automatically', 'please', 'contact'], chosen_words=['hi', 'text', 'box', 'field', 'text', 'box', 'resubmit', 'child'], post_number_of_words=34, controversiality=0, score=1, subreddit='AskReddit', month=1), Row(final_cleaned_body=['dont', 'understand', 'tie', 'regulation', 'neither', 'team', 'well', 'enough', 'win', 'one', 'team', 'get', 'advantage', 'overtime'], chosen_words=['neither', 'advantage'], post_number_of_words=14, controversiality=0, score=-7, subreddit='nfl', month=1), Row(final_cleaned_body=['post', 'politics', 'removed', 'post', 'politics', 'please', 'leave', 'political', 'thread', 'top', 'sub', 'political', 'sub', 'discussion', 'politics', 'must', 'remain', 'think', 'error', 'please', 'message', 'bot', 'action', 'automatically', 'please', 'contact'], chosen_words=['politics', 'politics', 'political', 'political', 'discussion', 'politics', 'error'], post_number_of_words=26, controversiality=0, score=1, subreddit='unpopularopinion', month=1), Row(final_cleaned_body=['totally', 'first', 'lived', 'little', 'enclave', 'south', 'traveled', 'direction', 'id', 'get', 'political', 'whiplash', 'eastern', 'part', 'state', 'doesnt', 'even', 'progressive'], chosen_words=['totally', 'lived', 'south', 'direction', 'political'], post_number_of_words=18, controversiality=0, score=2, subreddit='politics', month=1), Row(final_cleaned_body=['clarify', 'snap', 'two', 'different', 'pregnant', 'age', 'get', 'exactly', 'printed', 'check', 'snap', 'food', 'anyone', 'income', 'buy', 'kind', 'want', 'grocery', 'store', 'except', 'hot', 'card', 'snap'], chosen_words=['income', 'store', 'except', 'hot'], post_number_of_words=23, controversiality=0, score=15, subreddit='AskReddit', month=1), Row(final_cleaned_body=['yah', 'social', 'experiment', 'strategy', 'ban', 'due', 'insanely', 'high', 'suicide', 'mental', 'instability'], chosen_words=['ban', 'mental'], post_number_of_words=11, controversiality=0, score=20, subreddit='The_Donald', month=1), Row(final_cleaned_body=['like', 'large', 'bank', 'virtually', 'everyone', 'like', 'one', 'step', 'entry', 'level', 'title'], chosen_words=['large', 'bank', 'step'], post_number_of_words=11, controversiality=0, score=7, subreddit='politics', month=1), Row(final_cleaned_body=['oh', 'one', 'happen', 'watching', 'bar', 'without', 'sound', 'hard', 'follow', 'last', 'two', 'replay'], chosen_words=['watching', 'bar', 'follow'], post_number_of_words=12, controversiality=0, score=2, subreddit='nfl', month=1), Row(final_cleaned_body=['irresistible', 'urge', 'pet', 'beautiful', 'coat', 'probably', 'last', 'thing', 'ever', 'pet', 'worth'], chosen_words=['beautiful'], post_number_of_words=11, controversiality=0, score=6, subreddit='funny', month=1)]\n",
      "Check that columns were successfully dropped\n",
      "+--------------------+--------------------+----------------+-----+-----------------+\n",
      "|        chosen_words|post_number_of_words|controversiality|score|        subreddit|\n",
      "+--------------------+--------------------+----------------+-----+-----------------+\n",
      "|[damn, favorite, ...|                  19|               0|   16|reddeadredemption|\n",
      "|[hi, text, box, f...|                  34|               0|    1|        AskReddit|\n",
      "|[neither, advantage]|                  14|               0|   -7|              nfl|\n",
      "|[politics, politi...|                  26|               0|    1| unpopularopinion|\n",
      "|[totally, lived, ...|                  18|               0|    2|         politics|\n",
      "|[income, store, e...|                  23|               0|   15|        AskReddit|\n",
      "|       [ban, mental]|                  11|               0|   20|       The_Donald|\n",
      "| [large, bank, step]|                  11|               0|    7|         politics|\n",
      "|[watching, bar, f...|                  12|               0|    2|              nfl|\n",
      "|         [beautiful]|                  11|               0|    6|            funny|\n",
      "+--------------------+--------------------+----------------+-----+-----------------+\n",
      "only showing top 10 rows\n",
      "\n",
      "None\n"
     ]
    }
   ],
   "source": [
    "# Create a subset of the data that only includes comments in the 20 most popular subreddits\n",
    "# (Defined as the 20 subreddits with the highest number of total comments)\n",
    "comments_top_20_subreddits = spark.sql(\"\"\"\n",
    "SELECT *\n",
    "FROM reddit_comments_SQL\n",
    "WHERE subreddit IN (SELECT subreddit\n",
    "FROM reddit_comments_SQL\n",
    "GROUP BY subreddit\n",
    "ORDER BY COUNT(*) DESC\n",
    "LIMIT 20)\n",
    "\"\"\").cache()\n",
    "\n",
    "# Show that this data retrieval was successful\n",
    "print(comments_top_20_subreddits.take(10))\n",
    "\n",
    "# Keep only comments that we need for the future array. Particularly, we can drop the \"final_cleaned_body\" variable as \n",
    "# we won't use the entire text in our modeling. Additionally, we can drop the month as we won't use this in our \n",
    "# analysis, because we did not observe any interesting patterns by month.\n",
    "comments_top_20_subreddits = comments_top_20_subreddits.drop('final_cleaned_body', 'month')\n",
    "\n",
    "# Check that columns were successfully dropped \n",
    "print(\"Check that columns were successfully dropped\")\n",
    "print(comments_top_20_subreddits.show(10))\n"
   ]
  },
  {
   "cell_type": "code",
   "execution_count": 45,
   "metadata": {},
   "outputs": [
    {
     "name": "stdout",
     "output_type": "stream",
     "text": [
      "Number of rows we are using in our modeling is: \n",
      "23908294\n"
     ]
    }
   ],
   "source": [
    "# Display number of rows that we are using in our modeling\n",
    "print(\"Number of rows we are using in our modeling is: \")\n",
    "print(comments_top_20_subreddits.count())\n"
   ]
  },
  {
   "cell_type": "code",
   "execution_count": 46,
   "metadata": {},
   "outputs": [],
   "source": [
    "# Write this result to a Parquet file and then read it back in \n",
    "comments_top_20_subreddits.write.parquet(\"s3://ericlarosefinalprojectbucket/comments_top_20_subreddits.parquet\",mode=\"overwrite\")\n",
    "# Read raw data back in from S3 bucket\n",
    "comments_top_20_subreddits = spark.read.parquet(\"s3://ericlarosefinalprojectbucket/comments_top_20_subreddits.parquet\")"
   ]
  },
  {
   "cell_type": "markdown",
   "metadata": {},
   "source": [
    "**We can see that in our final dataset that we use for modeling, we have 23,908,294 rows before splitting up the data into training, testing, and validation sets.**\n",
    "\n",
    "Before proceeding with any modeling, we first want to split our data up into train, validation, and test datasets. The train dataset will be used to actually train the model. The validation dataset will be used for hyperparameter tuning in our models, which we will discuss in more detail below. After hyperparameter tuning, the test dataset will be used to evaluate the actual performance of the final model.\n",
    "\n",
    "Below, we reserve 90% of the data for training, 5% for testing, and 5% for validation, and then look at the number of rows in each dataset."
   ]
  },
  {
   "cell_type": "code",
   "execution_count": 47,
   "metadata": {},
   "outputs": [
    {
     "name": "stdout",
     "output_type": "stream",
     "text": [
      "Number of training records: 21515698\n",
      "Number of validation records: 1196099\n",
      "Number of test records: 1196497\n",
      "+--------------------+--------------------+----------------+-----+-------------------+\n",
      "|        chosen_words|post_number_of_words|controversiality|score|          subreddit|\n",
      "+--------------------+--------------------+----------------+-----+-------------------+\n",
      "|[lie, simple, eve...|                  12|               0|   11|           politics|\n",
      "|                  []|                  10|               0|    1|relationship_advice|\n",
      "|[lots, lots, judg...|                  20|               0|    5|              funny|\n",
      "|[crazy, covered, ...|                  19|               0|    1|                nfl|\n",
      "|[older, sister, s...|                  45|               0|    1|      relationships|\n",
      "|[biggest, land, p...|                  55|               0|    1|          AskReddit|\n",
      "|[shot, mention, d...|                  13|               0|   15|                CFB|\n",
      "|[solid, garbage, ...|                  58|               0|   13|     DestinyTheGame|\n",
      "|           [anyways]|                  11|               0|    2|         FortNiteBR|\n",
      "|[police, multiple...|                  17|               0|    0|         The_Donald|\n",
      "|                  []|                  10|               0|    1|                nba|\n",
      "|[major, crime, tu...|                  28|               0|    2|           politics|\n",
      "|[walk, replace, d...|                  17|               0|    2|                nba|\n",
      "|[lack, sides, dri...|                  71|               0|    1|   unpopularopinion|\n",
      "|[economy, therefo...|                  23|               0|    1|   unpopularopinion|\n",
      "|[meet, minimum, r...|                  27|               0|    1|          worldnews|\n",
      "|[weapon, auto, ra...|                  14|               0|    4|             gaming|\n",
      "|[extremely, recei...|                  18|               0|    1|     Showerthoughts|\n",
      "|[target, land, fi...|                  36|               0|   -1|     DestinyTheGame|\n",
      "|[reminder, civil,...|                  25|               0|    1|           politics|\n",
      "+--------------------+--------------------+----------------+-----+-------------------+\n",
      "only showing top 20 rows\n",
      "\n"
     ]
    }
   ],
   "source": [
    "# Split data into 90% for training, 5% for validation, and 5% for testing\n",
    "splitted_data = comments_top_20_subreddits.randomSplit([0.9, 0.05, 0.05], seed = 19582)\n",
    "# Get training, validation, and testing data\n",
    "train_data = splitted_data[0]\n",
    "validation_data = splitted_data[1]\n",
    "test_data = splitted_data[2]\n",
    "\n",
    "# Print number of rows in each dataset\n",
    "print(\"Number of training records: \" + str(train_data.count()))\n",
    "print(\"Number of validation records: \" + str(validation_data.count()))\n",
    "print(\"Number of test records: \" + str(test_data.count()))\n",
    "comments_top_20_subreddits.show()"
   ]
  },
  {
   "cell_type": "markdown",
   "metadata": {},
   "source": [
    "**Above, we can see that we have 21,515,698 rows in our training data, 1,196,099 rows in our validation data, and 1,196,497 rows in our test data.**\n",
    "\n",
    "Next, let's discuss the prediction models we use to predict whether a post is tagged as controversial or not. The motivation and possible use cases of these models are discussed in more detail in the main report. The models that we use here are regularized LASSO logistic regression and Bernoulli naive Bayes (NB). Both are frequently used to predict binary outcomes. A key advantage of regularized LASSO is that the regression model can discard variables it deems to be relatively important; since we have a large number of variables here, this is a useful feature as many are likely to be relatively unimportant. A key advantage of Bernoulli naive Bayes is that it works well with sparse data, which is what we have here (because for a given observation, the vast majority of feature values will be zero). Additionally, Bernoulli naive Bayes is specifically built to handle binary data, and all but two of our feature columns are binary (we have to drop these two feature columns when doing naive Bayes, but keep them when doing logistic regression). The disadvantages of the algorithms are discussed in more detail in the main report. Overall, some other models such as random forests were chosen because they do not perform well with very sparse data (discussed in more detail in the main report). In regularized LASSO regression, there is one hyperparameter $\\lambda$ that we use to control the extent to which coefficients are \"penalized.\" The higher the value of $\\lambda$, the more variable coefficients we expect to become zero. In Bernoulli naive bayes, there is a smoothing parameter $\\alpha$ which is meant to tackle the issue of producing an estimated zero probability in naive Bayes. (This is discussed in more detail in the main report.) In the code below, we use the validation set to look at different levels of accuracy as we vary $\\lambda$ and $k$ in the respective models.\n",
    "\n",
    "One important different between the two models is that naive Bayes will require only dummy variables, so we do not include the score or the number of words in the model. We drop these variables from the Bernoulli naive Bayes model but include them in the logistic regression model.\n",
    "\n",
    "Before actually doing hyperparameter tuning, we need to prepare a Pipeline of the data transformations that we use in our model. In particular, regularized logistic regression requires that variables should be measured on the same scale. Almost all of our variables are dummy variables, which are obviously on a 0-1 scale. However, the \"score\" and \"post_number_of_words\" variables are clearly not on this scale but rather on a -100 to 100 and 10 to 90 scale, respectively. Thus, we use min-max scaling to transform both of these variables to a 0-1 scale. Min-max scaling means that a value of -100 of score, for instance, becomes 0, and a value of 100 becomes 1, while a score of 0 becomes 0.5 because it is halfway in between the minimum and maximum of the variable. Likewise, a score of 50 would become 0.75 when transformed under min-max scaling.\n",
    "\n",
    "Additionally, we need to create a set of 1,000 dummy variables corresponding to our 1,000 chosen words, where each variable has  a value of 1 if the corresponding word appears in the comment, and 0 otherwise. Finally, we need to convert the subreddit string variable to a set of dummy variables, each corresponding to a value of 1 if the given comment appears in that subreddit, and 0 otherwise. Note that each comment can only have a value of 1 for one subreddit dummy variable, because comments cannot appear in multiple subreddits.\n",
    "\n",
    "Our hypotheses and possible use cases are discussed in more detail in the main report. Overall, we have shown that common words appears to vary substantially between controversial and non-controversial posts, and there are important differences in scores among controversial and non-controversial posts. Additionally, some subreddits have much higher rates of controversial posts than others. Overall, we have seen evidence that a model incorporating these factors is thus likely to do well at predicting controversial posts.\n",
    "\n",
    "The chunks of code below creates the basic pipeline necessary to transform all of the data."
   ]
  },
  {
   "cell_type": "code",
   "execution_count": 48,
   "metadata": {},
   "outputs": [],
   "source": [
    "# This section of code creates the pipeline necessary to transform variables appropriately\n",
    "# First, conduct min-max scaling of score and post_number_of_words variables\n",
    "from pyspark.ml.feature import MinMaxScaler, VectorAssembler\n",
    "# Note that we must convert each variable to a vector before we can apply the MinMaxScaler, \n",
    "# due to the properties of the MinMaxScalerclass \n",
    "# Score:\n",
    "# Convert to vector\n",
    "score_vector = VectorAssembler(inputCols = [\"score\"], outputCol = \"score_vector\")\n",
    "# Then apply min-max scaler to the vector\n",
    "score_scale = MinMaxScaler(inputCol=\"score_vector\", outputCol=\"score_scaled\", min = 0.0, max = 1.0)\n",
    "# Number of words:\n",
    "# Convert to vector\n",
    "post_number_of_words_vector = VectorAssembler(inputCols = [\"post_number_of_words\"], outputCol = \"post_number_of_words_vector\")\n",
    "# Then apply min-max scaler to the vector\n",
    "post_number_of_words_scale = MinMaxScaler(inputCol = \"post_number_of_words_vector\", outputCol = \"post_number_of_words_scaled\", min = 0.0, max = 1.0)\n",
    "\n",
    "# Next, use CountVectorizer to create a binary variable for each chosen word, creating 1,000 total dummy variables\n",
    "from pyspark.ml.feature import CountVectorizer\n",
    "# Minimum term and document frequencies of one guarantee that all of these 1,000 words will be kept.\n",
    "chosen_words_vectorizer = CountVectorizer(inputCol = \"chosen_words\", outputCol = \"chosen_words_vectorized\", minDF = 1.0, minTF = 1.0, binary = True)\n",
    "\n",
    "# Finally, convert subreddit variable to a set of categorical dummy variables\n",
    "# First, use StringIndexer to convert a string to a single numeric variable\n",
    "from pyspark.ml.feature import StringIndexer\n",
    "subreddit_indexer = StringIndexer(inputCol = \"subreddit\", outputCol = \"subreddit_index\")\n",
    "# Next, use OneHotEncoder to convert this numeric index to a set of dummy variables\n",
    "from pyspark.ml.feature import OneHotEncoder \n",
    "subreddit_encoder = OneHotEncoder(inputCol = \"subreddit_index\", outputCol = \"subreddit_encoded\")\n"
   ]
  },
  {
   "cell_type": "markdown",
   "metadata": {},
   "source": [
    "Now that we've done appropriate transformations to our feature data, we can define a feature vector. (Note that no transformations need to be made to our outcome variable as it is already in the form we need.)"
   ]
  },
  {
   "cell_type": "code",
   "execution_count": 49,
   "metadata": {},
   "outputs": [],
   "source": [
    "# Define feature vector using the VectorAssembler method\n",
    "# Note that in the logistic regression model, we include the score and the number of words\n",
    "controv_model_features_logistic = VectorAssembler(\n",
    "    inputCols=[\"score_scaled\",\n",
    "               \"post_number_of_words_scaled\",\n",
    "               \"chosen_words_vectorized\",\n",
    "               \"subreddit_encoded\"],\n",
    "    outputCol=\"model_features\")\n",
    "\n",
    "# Because the Bernoulli naive Bayes model can only include binary variables, we drop the score and number of words \n",
    "# from the Naive Bayes model\n",
    "controv_model_features_NB = VectorAssembler(\n",
    "    inputCols=[\"chosen_words_vectorized\",\n",
    "               \"subreddit_encoded\"],\n",
    "    outputCol=\"model_features\")"
   ]
  },
  {
   "cell_type": "markdown",
   "metadata": {},
   "source": [
    "We are just about ready to estimate out models! For the validation stage, we need to do hyperparameter tuning. Let's first do the hyperparameter tuning with regularized logistic regression (LASSO logistic regression). We will try a range of possible values of $\\lambda$ that allows us to \"hone in \" on the correct value. The way we approach that is that for a given value of $\\lambda$, we estimate the LASSO logistic regression model on the training set and then calculate the accuracy on the **validation set** (rather than the test set, which is only used to evaluate our final model)."
   ]
  },
  {
   "cell_type": "code",
   "execution_count": 50,
   "metadata": {},
   "outputs": [],
   "source": [
    "# Specify a range of possible values of lambda\n",
    "lambda_values = [0, 0.000001, 0.0001, 0.01, 0.05, 0.1]\n",
    "# Create a blank list to which we append accuracy scores on our validation results\n",
    "validation_accuracy_scores_for_lasso = []"
   ]
  },
  {
   "cell_type": "code",
   "execution_count": 51,
   "metadata": {},
   "outputs": [],
   "source": [
    "# Import some packages we need\n",
    "from pyspark.ml.classification import LogisticRegression\n",
    "from pyspark.ml.evaluation import MulticlassClassificationEvaluator \n",
    "from pyspark.ml import Pipeline, Model\n",
    "# Loop over our list of possible values of our hyperparameterr lambda\n",
    "for lam in lambda_values:\n",
    "    # Note that \"elasticNetParam\" is set to 0 to create a LASSO model, while \"regParam\" denotes lambda\n",
    "    lasso_logistic_regression_model = LogisticRegression(maxIter=10, regParam=lam, elasticNetParam=0,\n",
    "                                                         labelCol=\"controversiality\", featuresCol=\"model_features\")\n",
    "\n",
    "    # Build the pipeline using the data manipulation steps and the logistic regression model with given value of lambda\n",
    "    pipeline_logistic = Pipeline(stages=[score_vector, score_scale, post_number_of_words_vector, \n",
    "                                         post_number_of_words_scale, chosen_words_vectorizer,\n",
    "                                         subreddit_indexer, subreddit_encoder, controv_model_features_logistic,\n",
    "                                         lasso_logistic_regression_model])\n",
    "        \n",
    "    # Fit the logistic model on training data, then make predictions using validation data\n",
    "    model_logistic = pipeline_logistic.fit(train_data)\n",
    "    predictions = model_logistic.transform(validation_data)\n",
    "\n",
    "    # Calculate accuracy from this model (defined as percent of correct predictions)\n",
    "    evaluator_logistic = MulticlassClassificationEvaluator(labelCol=\"controversiality\", predictionCol=\"prediction\", metricName=\"accuracy\")\n",
    "    accuracy = evaluator_logistic.evaluate(predictions)\n",
    "\n",
    "    # Calculate accuracy and append it to the blank list created above\n",
    "    validation_accuracy_scores_for_lasso.append(accuracy)"
   ]
  },
  {
   "cell_type": "code",
   "execution_count": 52,
   "metadata": {},
   "outputs": [
    {
     "data": {
      "text/plain": [
       "Text(0.5, 1.0, 'Hyperparameter Tuning for LASSO Logistic Regression \\n')"
      ]
     },
     "execution_count": 52,
     "metadata": {},
     "output_type": "execute_result"
    },
    {
     "data": {
      "image/png": "[encoded data removed]",
      "text/plain": [
       "<Figure size 432x288 with 1 Axes>"
      ]
     },
     "metadata": {
      "needs_background": "light"
     },
     "output_type": "display_data"
    }
   ],
   "source": [
    "# Next, let's visualize these accuracy scores\n",
    "plt.scatter(lambda_values, validation_accuracy_scores_for_lasso)\n",
    "plt.plot(lambda_values, validation_accuracy_scores_for_lasso)\n",
    "plt.xlabel('Value of $\\lambda$ in LASSO Logistic Regression')\n",
    "plt.ylabel('Predictive Accuracy')\n",
    "plt.title('Hyperparameter Tuning for LASSO Logistic Regression \\n')\n"
   ]
  },
  {
   "cell_type": "markdown",
   "metadata": {},
   "source": [
    "Something interesting is happening here. We can see that for $\\lambda$ not very close to 0, the predictive accuracy is the same regardless of the value of $\\lambda$. The reason this is happening is that above a certain value of $\\lambda$, the penalty applied is so large that all variable coefficients become zero. In other words, there really is no effective model, and the model is simply predicting that all posts are non-controversial. Let's confirm this by looking at the share of non-controversial posts in the validation data."
   ]
  },
  {
   "cell_type": "code",
   "execution_count": 53,
   "metadata": {},
   "outputs": [
    {
     "name": "stderr",
     "output_type": "stream",
     "text": [
      "/home/hadoop/miniconda/lib/python3.7/site-packages/pyarrow/util.py:43: FutureWarning: pyarrow.open_stream is deprecated as of 0.17.0, please use pyarrow.ipc.open_stream instead.\n",
      "  warnings.warn(msg, FutureWarning)\n"
     ]
    },
    {
     "name": "stdout",
     "output_type": "stream",
     "text": [
      "Percent of non-controversial posts in validation data is 0.9651834839758248\n"
     ]
    }
   ],
   "source": [
    "# Calculate percent of non-controversial posts in the validation data\n",
    "print(\"Percent of non-controversial posts in validation data is \" + str(1 - validation_data.agg({\"controversiality\": \"avg\"}).toPandas()['avg(controversiality)'][0]))\n"
   ]
  },
  {
   "cell_type": "markdown",
   "metadata": {},
   "source": [
    "We can see that the percent of non-controversial posts is exactly the same as the predictive accuracy for values of $\\lambda$ not very close to zero. For lower values of $\\lambda$, the model is actually less predictive; that is, when including some variables in our logistic regression, the model is less accurate than simply predicting that all posts are non-controversial! (Doing so guarantees 96.52% accuracy.) Thus, the \"optimal\" value of $\\lambda$ is one that forces all variables to be zero. This behavior likely results from the highly imbalanced classes (in other words, controversial posts are a very small number of all posts). Looking at the results of this model isn't very interesting, though, so let's choose $\\lambda = 0.0001$ which does yield a model with some non-zero variables even though it is less accurate than simply predicting all posts to be non-controversial.\n",
    "\n",
    "Next, let's turn to tuning of the smoothing parameter in Bernoulli naive Bayes. The approach to do so is essentially exactly the same as we just did for logistic regression. This is done in the chunks of code below."
   ]
  },
  {
   "cell_type": "code",
   "execution_count": 54,
   "metadata": {},
   "outputs": [],
   "source": [
    "# Specify a range of possible values of alpha, the smoothing parameter\n",
    "alpha_values = [0, 0.5, 1, 1.5, 2, 2.5, 3]\n",
    "# Create a blank list to which we append accuracy scores on our validation results\n",
    "validation_accuracy_scores_for_alpha = []"
   ]
  },
  {
   "cell_type": "code",
   "execution_count": 55,
   "metadata": {},
   "outputs": [],
   "source": [
    "# Import package needed for Bernoulli naive Bayes\n",
    "from pyspark.ml.classification import NaiveBayes\n",
    "\n",
    "# Loop over our list of possible values of our hyperparameter alpha\n",
    "for a in alpha_values:\n",
    "    # Implement NaiveBayes model\n",
    "    naive_bayes_model = NaiveBayes(modelType='bernoulli', smoothing = a,\n",
    "                                   labelCol=\"controversiality\", featuresCol=\"model_features\")\n",
    "\n",
    "    # Build the pipeline using the data manipulation steps and the naive Bayes model with given value of alpha\n",
    "    # Note that this pipeline excludes the score and number of words variables.\n",
    "    pipeline_NB = Pipeline(stages=[chosen_words_vectorizer, subreddit_indexer, subreddit_encoder, \n",
    "                                   controv_model_features_NB, naive_bayes_model])\n",
    "        \n",
    "    # Fit the naive Bayes model on training data, then make predictions using validation data\n",
    "    model_NB = pipeline_NB.fit(train_data)\n",
    "    predictions = model_NB.transform(validation_data)\n",
    "\n",
    "    # Calculate accuracy from this model (defined as percent of correct predictions)\n",
    "    evaluator_NB = MulticlassClassificationEvaluator(labelCol=\"controversiality\", predictionCol=\"prediction\", metricName=\"accuracy\")\n",
    "    accuracy = evaluator_NB.evaluate(predictions)\n",
    "\n",
    "    # Calculate accuracy and append it to the blank list created above\n",
    "    validation_accuracy_scores_for_alpha.append(accuracy)\n",
    "    "
   ]
  },
  {
   "cell_type": "code",
   "execution_count": 56,
   "metadata": {},
   "outputs": [
    {
     "data": {
      "text/plain": [
       "Text(0.5, 1.0, 'Hyperparameter Tuning for Bernoulli Naive Bayes')"
      ]
     },
     "execution_count": 56,
     "metadata": {},
     "output_type": "execute_result"
    },
    {
     "data": {
      "image/png": "[encoded data removed]",
      "text/plain": [
       "<Figure size 432x288 with 1 Axes>"
      ]
     },
     "metadata": {
      "needs_background": "light"
     },
     "output_type": "display_data"
    }
   ],
   "source": [
    "# Next, let's visualize these accuracy scores\n",
    "plt.scatter(alpha_values, validation_accuracy_scores_for_alpha)\n",
    "plt.plot(alpha_values, validation_accuracy_scores_for_alpha)\n",
    "plt.xlabel('Value of Smoothing Parameter, in Bernoulli Naive Bayes')\n",
    "plt.ylabel('Predictive Accuracy')\n",
    "plt.title('Hyperparameter Tuning for Bernoulli Naive Bayes')\n"
   ]
  },
  {
   "cell_type": "markdown",
   "metadata": {},
   "source": [
    "From the graph above it appears that for Gaussian Naive Bayes we should use a smoothing parameter of $0$ which gives the highest accuracy. Note that the accuracy score here is still less than simply predicting all posts to be non-controversial.\n",
    "\n",
    "Next, we implement these models using the chosen hyperparameter values and evaluate them on the test data (rather than the validation data, which was used for hyperparameter tuning). First, let's implement the logistic regression model in the chunk of code below. "
   ]
  },
  {
   "cell_type": "code",
   "execution_count": 57,
   "metadata": {},
   "outputs": [
    {
     "name": "stdout",
     "output_type": "stream",
     "text": [
      "Accuracy score for LASSO logistic regression model is 0.9649861219877693\n",
      "Recall (weighted) for LASSO logistic regression model is 0.9649861219877693\n",
      "Precision (weighted) for LASSO logistic regression model is 0.9312029699804681\n",
      "F1 score for LASSO logistic regression model is 0.9477935999011614\n"
     ]
    }
   ],
   "source": [
    "# Note that \"elasticNetParam\" is set to 0 to create a LASSO model, while \"regParam\" denotes lambda\n",
    "lasso_logistic_regression_model = LogisticRegression(maxIter=10, regParam=0.0001, elasticNetParam=0,\n",
    "                                                     labelCol=\"controversiality\", featuresCol=\"model_features\")\n",
    "\n",
    "# Build the pipeline using the data manipulation steps and the logistic regression model with given value of lambda\n",
    "pipeline_logistic = Pipeline(stages=[score_vector, score_scale, post_number_of_words_vector, \n",
    "                                     post_number_of_words_scale, chosen_words_vectorizer,\n",
    "                                     subreddit_indexer, subreddit_encoder, controv_model_features_logistic,\n",
    "                                     lasso_logistic_regression_model])\n",
    "\n",
    "# Fit the logistic model on training data, then make predictions using validation data\n",
    "model_logistic = pipeline_logistic.fit(train_data)\n",
    "predictions = model_logistic.transform(test_data)\n",
    "\n",
    "# Calculate accuracy from this model (defined as percent of correct predictions)\n",
    "# Print accuracy score:\n",
    "print(\"Accuracy score for LASSO logistic regression model is \" + str(MulticlassClassificationEvaluator(labelCol=\"controversiality\", predictionCol=\"prediction\", metricName=\"accuracy\").evaluate(predictions)))\n",
    "# Print several other evaluation metrics: (weighted) recall, (weighted) precision, and F1 score\n",
    "print(\"Recall (weighted) for LASSO logistic regression model is \" + str(MulticlassClassificationEvaluator(labelCol=\"controversiality\", predictionCol=\"prediction\", metricName=\"weightedRecall\").evaluate(predictions)))\n",
    "print(\"Precision (weighted) for LASSO logistic regression model is \" + str(MulticlassClassificationEvaluator(labelCol=\"controversiality\", predictionCol=\"prediction\", metricName=\"weightedPrecision\").evaluate(predictions)))\n",
    "print(\"F1 score for LASSO logistic regression model is \" + str(MulticlassClassificationEvaluator(labelCol=\"controversiality\", predictionCol=\"prediction\", metricName=\"f1\").evaluate(predictions)))\n"
   ]
  },
  {
   "cell_type": "markdown",
   "metadata": {},
   "source": [
    "These numbers are discussed in more detail in the main report. To better understand them, let's construct a confusion matrix to look at the relatively frequency of false negatives and false positives. But to provide some context, let's look at the proprtion of non-controversial posts in the test data."
   ]
  },
  {
   "cell_type": "code",
   "execution_count": 58,
   "metadata": {},
   "outputs": [
    {
     "name": "stdout",
     "output_type": "stream",
     "text": [
      "Percent of non-controversial posts in test data is 0.9649886293070522\n"
     ]
    }
   ],
   "source": [
    "# Calculate percent of non-controversial posts in the test data\n",
    "print(\"Percent of non-controversial posts in test data is \" + str(1 - test_data.agg({\"controversiality\": \"avg\"}).toPandas()['avg(controversiality)'][0]))\n"
   ]
  },
  {
   "cell_type": "markdown",
   "metadata": {},
   "source": [
    "We can see that our LASSO logistic regression model is actually performing slightly worse than simply predicting all posts to be non-controversial. Let's look at the confusion matrix next:"
   ]
  },
  {
   "cell_type": "code",
   "execution_count": 59,
   "metadata": {},
   "outputs": [
    {
     "data": {
      "text/plain": [
       "Text(0.5, 1.0, 'Confusion Matrix for LASSO Logistic Regression')"
      ]
     },
     "execution_count": 59,
     "metadata": {},
     "output_type": "execute_result"
    },
    {
     "data": {
      "image/png": "[encoded data removed]",
      "text/plain": [
       "<Figure size 432x288 with 2 Axes>"
      ]
     },
     "metadata": {
      "needs_background": "light"
     },
     "output_type": "display_data"
    }
   ],
   "source": [
    "# This chunk of codes creates a confusion matrix\n",
    "# First, get both the predictions and labels from the model\n",
    "preds_and_labels = predictions.select(['prediction','controversiality']).withColumn('label', F.col('controversiality').cast(FloatType())).orderBy('prediction').select(['prediction','label'])\n",
    "\n",
    "# Import package needed to get some classification metrics\n",
    "from pyspark.mllib.evaluation import MulticlassMetrics\n",
    "metrics = MulticlassMetrics(preds_and_labels.rdd.map(tuple))\n",
    "\n",
    "# Import packages needed to represent a confusion matrix as a heatmap\n",
    "import pandas as pd\n",
    "import seaborn as sns\n",
    "# Create confusion matrix\n",
    "confusion_matrix = pd.DataFrame(metrics.confusionMatrix().toArray())\n",
    "# Create labels to be imposed on the heatmap, which will show what each cell \n",
    "# corresponds to, the number of observations in the cell, and the percent of\n",
    "# observations in the cell.\n",
    "group_names = ['True Negative','False Positive','False Negative','True Positive']\n",
    "group_counts = ['{0:0.0f}'.format(value) for value in\n",
    "                confusion_matrix.to_numpy().flatten()]\n",
    "group_percentages = ['{0:.2%}'.format(value) for value in\n",
    "                     confusion_matrix.to_numpy().flatten()/np.sum(confusion_matrix.to_numpy())]\n",
    "labels = [f'{v1}\\n{v2}\\n{v3}' for v1, v2, v3 in zip(group_names,group_counts,group_percentages)]\n",
    "labels = np.asarray(labels).reshape(2,2)\n",
    "# Create the heatmap and add a title\n",
    "logistic_reg_plot = sns.heatmap(confusion_matrix, annot=labels, fmt='', cmap='Reds')\n",
    "logistic_reg_plot.set_title('Confusion Matrix for LASSO Logistic Regression')\n"
   ]
  },
  {
   "cell_type": "markdown",
   "metadata": {},
   "source": [
    "Wow! We can see that there wasn't a single post correctly flagged as controversial. Only 3 posts out of 1 million overall  were predicted as controversial, and none of those predicted as controversial actually were. This model is terrible at predicting which posts are controversial - in fact, it did not correctly predict a single post as controversial. We can see that among incorrect predictions, virtually 100% of them are false negatives instead of false positive. Our model isn't predicting **every** comment to be non-controversial, but it is coming extremely close to it.\n",
    "\n",
    "Next, let's see if switching to a Bernoulli naive Bayes model improves our performance at all. This is done in the chunks of code below."
   ]
  },
  {
   "cell_type": "code",
   "execution_count": 60,
   "metadata": {},
   "outputs": [
    {
     "name": "stdout",
     "output_type": "stream",
     "text": [
      "Accuracy score for Bernoulli naive Bayes model is 0.9614558164374838\n",
      "Recall (weighted) for Bernoulli naive Bayes is 0.9614558164374838\n",
      "Precision (weighted) for Bernoulli naive Bayes is 0.9346784245793783\n",
      "F1 score for Bernoulli naive Bayes is 0.9467305671120113\n"
     ]
    }
   ],
   "source": [
    "# Implement NaiveBayes model with alpha = 0, determined in hyperparameter tuning above\n",
    "naive_bayes_model = NaiveBayes(modelType='bernoulli', smoothing = 0,\n",
    "                               labelCol=\"controversiality\", featuresCol=\"model_features\")\n",
    "\n",
    "# Build the pipeline using the data manipulation steps and the naive Bayes model with alpha = 0\n",
    "# Note that this pipeline excludes the score and number of words variables.\n",
    "pipeline_NB = Pipeline(stages=[chosen_words_vectorizer, subreddit_indexer, subreddit_encoder, \n",
    "                               controv_model_features_NB, naive_bayes_model])\n",
    "\n",
    "# Fit the naive Bayes model on training data, then make predictions using test data\n",
    "model_NB = pipeline_NB.fit(train_data)\n",
    "predictions = model_NB.transform(test_data)\n",
    "\n",
    "# Calculate accuracy from this model (defined as percent of correct predictions)\n",
    "# and then print accuracy score:\n",
    "print(\"Accuracy score for Bernoulli naive Bayes model is \" + str(MulticlassClassificationEvaluator(labelCol=\"controversiality\", predictionCol=\"prediction\", metricName=\"accuracy\").evaluate(predictions)))\n",
    "# Print several other evaluation metrics: (weighted) recall, (weighted) precision, and F1 score\n",
    "print(\"Recall (weighted) for Bernoulli naive Bayes is \" + str(MulticlassClassificationEvaluator(labelCol=\"controversiality\", predictionCol=\"prediction\", metricName=\"weightedRecall\").evaluate(predictions)))\n",
    "print(\"Precision (weighted) for Bernoulli naive Bayes is \" + str(MulticlassClassificationEvaluator(labelCol=\"controversiality\", predictionCol=\"prediction\", metricName=\"weightedPrecision\").evaluate(predictions)))\n",
    "print(\"F1 score for Bernoulli naive Bayes is \" + str(MulticlassClassificationEvaluator(labelCol=\"controversiality\", predictionCol=\"prediction\", metricName=\"f1\").evaluate(predictions)))\n"
   ]
  },
  {
   "cell_type": "markdown",
   "metadata": {},
   "source": [
    "These numbers are discussed in more detail in the main report, but overall we can see that the accuracy of naive Bayes is even lower than logistic regression. Both of these models appear to be quite bad at predicting which posts are controversial. Let's look at the confusion matrix below."
   ]
  },
  {
   "cell_type": "code",
   "execution_count": 61,
   "metadata": {},
   "outputs": [
    {
     "data": {
      "text/plain": [
       "Text(0.5, 1.0, 'Confusion Matrix for Benoulli Naive Bayes')"
      ]
     },
     "execution_count": 61,
     "metadata": {},
     "output_type": "execute_result"
    },
    {
     "data": {
      "image/png": "[encoded data removed]",
      "text/plain": [
       "<Figure size 432x288 with 2 Axes>"
      ]
     },
     "metadata": {
      "needs_background": "light"
     },
     "output_type": "display_data"
    }
   ],
   "source": [
    "# This chunk of codes creates a confusion matrix, this time for the naive Bayes model\n",
    "# First, get both the predictions and labels from the model\n",
    "preds_and_labels = predictions.select(['prediction','controversiality']).withColumn('label', F.col('controversiality').cast(FloatType())).orderBy('prediction').select(['prediction','label'])\n",
    "\n",
    "# Import package needed to get some classification metrics\n",
    "from pyspark.mllib.evaluation import MulticlassMetrics\n",
    "metrics = MulticlassMetrics(preds_and_labels.rdd.map(tuple))\n",
    "\n",
    "# Import packages needed to represent a confusion matrix as a heatmap\n",
    "import pandas as pd\n",
    "import seaborn as sns\n",
    "# Create confusion matrix\n",
    "confusion_matrix = pd.DataFrame(metrics.confusionMatrix().toArray())\n",
    "# Create labels to be imposed on the heatmap, which will show what each cell \n",
    "# corresponds to, the number of observations in the cell, and the percent of\n",
    "# observations in the cell.\n",
    "group_names = ['True Negative','False Positive','False Negative','True Positive']\n",
    "group_counts = ['{0:0.0f}'.format(value) for value in\n",
    "                confusion_matrix.to_numpy().flatten()]\n",
    "group_percentages = ['{0:.2%}'.format(value) for value in\n",
    "                     confusion_matrix.to_numpy().flatten()/np.sum(confusion_matrix.to_numpy())]\n",
    "labels = [f'{v1}\\n{v2}\\n{v3}' for v1, v2, v3 in zip(group_names,group_counts,group_percentages)]\n",
    "labels = np.asarray(labels).reshape(2,2)\n",
    "# Create the heatmap and add a title\n",
    "logistic_reg_plot = sns.heatmap(confusion_matrix, annot=labels, fmt='', cmap='Reds')\n",
    "logistic_reg_plot.set_title('Confusion Matrix for Benoulli Naive Bayes')\n"
   ]
  },
  {
   "cell_type": "markdown",
   "metadata": {},
   "source": [
    "We can see roughly the same pattern as in logistic regression. Both models very rarely predict controversial posts, although the naive Bayes model does so *much* more frequently than the logistic regression model - over 5000 posts are predicted as controversial, compared to 3 posts in the logistic regression model. Still, incorrect predictions are overwhelmingly false negatives - less than one-tenth of comments predicted as controversial actually are controversial. Both of these models appear to err on the side of classifying almost every observation as non-controversial, which seems understandable given the very small portion of overall comments that are classified as controversial. Shortcomings of these models, including possible paths for future work, are discussed in more detail in the main report. Otherwise, we close the Spark connection below and then this concludes this notebook."
   ]
  },
  {
   "cell_type": "code",
   "execution_count": 62,
   "metadata": {},
   "outputs": [],
   "source": [
    "# Close Spark connection and then we're done!\n",
    "sc.stop()"
   ]
  },
  {
   "cell_type": "code",
   "execution_count": null,
   "metadata": {},
   "outputs": [],
   "source": []
  }
 ],
 "metadata": {
  "kernelspec": {
   "display_name": "Python 3",
   "language": "python",
   "name": "python3"
  },
  "language_info": {
   "codemirror_mode": {
    "name": "ipython",
    "version": 3
   },
   "file_extension": ".py",
   "mimetype": "text/x-python",
   "name": "python",
   "nbconvert_exporter": "python",
   "pygments_lexer": "ipython3",
   "version": "3.7.7"
  }
 },
 "nbformat": 4,
 "nbformat_minor": 5
}
